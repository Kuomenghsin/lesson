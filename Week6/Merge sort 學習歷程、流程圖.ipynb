{
 "cells": [
  {
   "cell_type": "markdown",
   "metadata": {},
   "source": [
    "merge sort 學習歷程\n",
    "---------------------"
   ]
  },
  {
   "cell_type": "markdown",
   "metadata": {},
   "source": [
    "簡介:\n",
    "1. Divide：把數列「對半拆解」成兩個小數列。\n",
    "2. Conquer：按照「由小到大」的順序，「合併」小數列。\n",
    "\n",
    "參考資料:http://alrightchiu.github.io/SecondRound/comparison-sort-merge-sorthe-bing-pai-xu-fa.html"
   ]
  },
  {
   "cell_type": "markdown",
   "metadata": {},
   "source": [
    "想法:\n",
    "看完介紹後，發現參考資料和老師上課教的好像有些微的不一樣。上課時，老師在黑板上寫上一數列，然後直接第1、2個數一組，第3、4個數一組...以此類推比較，但網路上的資料是直接一直對半拆解。\n",
    "所以我先以上課老師教的方式，來思考。\n",
    "\n",
    "→\n",
    "將list切割兩兩互相比較，之後指定left list和right list，再以p,q作為左右兩邊list的index值，從0開始，做數值比大小，存成最後的新的list。"
   ]
  },
  {
   "cell_type": "code",
   "execution_count": 2,
   "metadata": {},
   "outputs": [
    {
     "name": "stdout",
     "output_type": "stream",
     "text": [
      "[[43, 21], [10, 3], [75, 1], [6, 8], [11]]\n"
     ]
    }
   ],
   "source": [
    "# 嘗試將一數列分成兩兩一組\n",
    "\n",
    "list=[43,21,10,3,75,1,6,8,11]\n",
    "num=len(list)\n",
    "step = 2\n",
    "b = [list[i:i+step] for i in range(0,len(list),step)]\n",
    "print(b)"
   ]
  },
  {
   "cell_type": "code",
   "execution_count": 7,
   "metadata": {},
   "outputs": [
    {
     "name": "stdout",
     "output_type": "stream",
     "text": [
      "[[21, 43], [3, 10], [1, 75], [6, 8], [11]]\n"
     ]
    }
   ],
   "source": [
    "# 進行兩兩的比大小，並將較小的數字放在前面\n",
    "\n",
    "for i in range(0,num//2,1):\n",
    "    if b[i][0]>b[i][1]:\n",
    "        b[i][0],b[i][1]=b[i][1],b[i][0]\n",
    "    else:\n",
    "        continue\n",
    "        \n",
    "print(b)"
   ]
  },
  {
   "cell_type": "code",
   "execution_count": 9,
   "metadata": {
    "collapsed": true
   },
   "outputs": [],
   "source": [
    "# 切割後，依老師上課時教的概念(使用index值進行比較)寫出merge做測試\n",
    "\n",
    "def merge(left,right):      \n",
    "    p = 0\n",
    "    q = 0\n",
    "    a1 = []    \n",
    "    while p < len(b1)  and q < len(b2):\n",
    "        if b1[p] < b2[q]:          \n",
    "            a1.append(left[p])\n",
    "            p += 1              \n",
    "        else:   \n",
    "            a1.append(right[q])\n",
    "            q += 1         \n",
    " \n",
    "    return a1"
   ]
  },
  {
   "cell_type": "code",
   "execution_count": 12,
   "metadata": {},
   "outputs": [
    {
     "name": "stdout",
     "output_type": "stream",
     "text": [
      "[3, 10]\n",
      "[6, 8]\n"
     ]
    }
   ],
   "source": [
    "# 思考左右兩邊list如何進行大小比較，所以試試看以下方法\n",
    "\n",
    "b1=b[0]\n",
    "b2=b[1]\n",
    "print(merge(b1,b2))\n",
    "\n",
    "b3=b[2]\n",
    "b4=b[3]\n",
    "print(merge(b3,b4))\n",
    "\n",
    " \n",
    "def merge(left,right):      \n",
    "    p = 0\n",
    "    q = 0\n",
    "    a1 = []    \n",
    "    while p < len(b1)  and q < len(b2):\n",
    "        if b1[p] < b2[q]:          \n",
    "            a1.append(left[p])\n",
    "            p += 1              \n",
    "        else:   \n",
    "            a1.append(right[q])\n",
    "            q += 1         \n",
    " \n",
    "    return a1"
   ]
  },
  {
   "cell_type": "markdown",
   "metadata": {},
   "source": [
    "結果並沒有4個數相組在一起，想了一下為什麼，發現比較完大小後，其他數值沒有將它們加入a1，嘗試將其他數字加入a1，加入以下程式碼:"
   ]
  },
  {
   "cell_type": "markdown",
   "metadata": {},
   "source": [
    "    a1 += left[p:]\n",
    "    a1 += right[q:]"
   ]
  },
  {
   "cell_type": "code",
   "execution_count": 14,
   "metadata": {},
   "outputs": [
    {
     "name": "stdout",
     "output_type": "stream",
     "text": [
      "[3, 10, 21, 43]\n",
      "[6, 8, 1, 75]\n"
     ]
    }
   ],
   "source": [
    "\n",
    "b1=b[0]\n",
    "b2=b[1]\n",
    "print(merge(b1,b2))\n",
    "\n",
    "b3=b[2]\n",
    "b4=b[3]\n",
    "print(merge(b3,b4))\n",
    "\n",
    " \n",
    "def merge(left,right):      \n",
    "    p = 0\n",
    "    q = 0\n",
    "    a1 = []    \n",
    "    while p < len(b1)  and q < len(b2):\n",
    "        if b1[p] < b2[q]:          \n",
    "            a1.append(left[p])\n",
    "            p += 1              \n",
    "        else:   \n",
    "            a1.append(right[q])\n",
    "            q += 1         \n",
    "    a1 += left[p:]\n",
    "    a1 += right[q:]\n",
    " \n",
    "    return a1"
   ]
  },
  {
   "cell_type": "markdown",
   "metadata": {},
   "source": [
    "發現結果依舊錯誤，且此方法需要自行命名並定義許多list，覺得應該寫迴圈，進行list的數值切割"
   ]
  },
  {
   "cell_type": "markdown",
   "metadata": {},
   "source": [
    "參考以下網址https://runestone.academy/runestone/books/published/pythonds/SortSearch/TheMergeSort.html\n",
    "將list切割，並過半天後自行打出以下程式碼"
   ]
  },
  {
   "cell_type": "code",
   "execution_count": 53,
   "metadata": {
    "collapsed": true
   },
   "outputs": [],
   "source": [
    "def mergesort(list): \n",
    "    num = len(list)\n",
    "    if num<2:\n",
    "        return list\n",
    "    else:       \n",
    "        center=len(list)/2\n",
    "        #print(center)\n",
    "        left = mergesort(list[0:center])\n",
    "        right = mergesort(list[center:len(list)])\n",
    "       "
   ]
  },
  {
   "cell_type": "markdown",
   "metadata": {},
   "source": [
    "接著將上面寫好的merge沿用下來，並將原本寫的b1改成left,b2改成right試試看"
   ]
  },
  {
   "cell_type": "code",
   "execution_count": 54,
   "metadata": {
    "collapsed": true
   },
   "outputs": [],
   "source": [
    "def merge(left,right):      \n",
    "    p = 0\n",
    "    q = 0\n",
    "    a1 = []    \n",
    "    while p < len(left)  and q < len(right):\n",
    "        if left[p] < right[q]:          \n",
    "            a1.append(left[p])\n",
    "            p += 1              \n",
    "        else:   \n",
    "            a1.append(right[q])\n",
    "            q += 1         \n",
    "    a1 += left[p:]\n",
    "    a1 += right[q:]\n",
    " \n",
    "    return a1"
   ]
  },
  {
   "cell_type": "code",
   "execution_count": 55,
   "metadata": {},
   "outputs": [
    {
     "ename": "TypeError",
     "evalue": "slice indices must be integers or None or have an __index__ method",
     "output_type": "error",
     "traceback": [
      "\u001b[1;31m---------------------------------------------------------------------------\u001b[0m",
      "\u001b[1;31mTypeError\u001b[0m                                 Traceback (most recent call last)",
      "\u001b[1;32m<ipython-input-55-dce442f007d7>\u001b[0m in \u001b[0;36m<module>\u001b[1;34m()\u001b[0m\n\u001b[0;32m      3\u001b[0m \u001b[0mlist\u001b[0m\u001b[1;33m=\u001b[0m\u001b[1;33m[\u001b[0m\u001b[1;36m43\u001b[0m\u001b[1;33m,\u001b[0m\u001b[1;36m21\u001b[0m\u001b[1;33m,\u001b[0m\u001b[1;36m10\u001b[0m\u001b[1;33m,\u001b[0m\u001b[1;36m3\u001b[0m\u001b[1;33m,\u001b[0m\u001b[1;36m75\u001b[0m\u001b[1;33m,\u001b[0m\u001b[1;36m1\u001b[0m\u001b[1;33m,\u001b[0m\u001b[1;36m6\u001b[0m\u001b[1;33m,\u001b[0m\u001b[1;36m8\u001b[0m\u001b[1;33m,\u001b[0m\u001b[1;36m11\u001b[0m\u001b[1;33m]\u001b[0m\u001b[1;33m\u001b[0m\u001b[0m\n\u001b[0;32m      4\u001b[0m \u001b[1;33m\u001b[0m\u001b[0m\n\u001b[1;32m----> 5\u001b[1;33m \u001b[0mprint\u001b[0m\u001b[1;33m(\u001b[0m\u001b[0mmergesort\u001b[0m\u001b[1;33m(\u001b[0m\u001b[0mlist\u001b[0m\u001b[1;33m)\u001b[0m\u001b[1;33m)\u001b[0m\u001b[1;33m\u001b[0m\u001b[0m\n\u001b[0m",
      "\u001b[1;32m<ipython-input-53-bd41c6b4338c>\u001b[0m in \u001b[0;36mmergesort\u001b[1;34m(list)\u001b[0m\n\u001b[0;32m      6\u001b[0m         \u001b[0mcenter\u001b[0m\u001b[1;33m=\u001b[0m\u001b[0mlen\u001b[0m\u001b[1;33m(\u001b[0m\u001b[0mlist\u001b[0m\u001b[1;33m)\u001b[0m\u001b[1;33m/\u001b[0m\u001b[1;36m2\u001b[0m\u001b[1;33m\u001b[0m\u001b[0m\n\u001b[0;32m      7\u001b[0m         \u001b[1;31m#print(center)\u001b[0m\u001b[1;33m\u001b[0m\u001b[1;33m\u001b[0m\u001b[0m\n\u001b[1;32m----> 8\u001b[1;33m         \u001b[0mleft\u001b[0m \u001b[1;33m=\u001b[0m \u001b[0mmergesort\u001b[0m\u001b[1;33m(\u001b[0m\u001b[0mlist\u001b[0m\u001b[1;33m[\u001b[0m\u001b[1;36m0\u001b[0m\u001b[1;33m:\u001b[0m\u001b[0mcenter\u001b[0m\u001b[1;33m]\u001b[0m\u001b[1;33m)\u001b[0m\u001b[1;33m\u001b[0m\u001b[0m\n\u001b[0m\u001b[0;32m      9\u001b[0m         \u001b[0mright\u001b[0m \u001b[1;33m=\u001b[0m \u001b[0mmergesort\u001b[0m\u001b[1;33m(\u001b[0m\u001b[0mlist\u001b[0m\u001b[1;33m[\u001b[0m\u001b[0mcenter\u001b[0m\u001b[1;33m:\u001b[0m\u001b[0mlen\u001b[0m\u001b[1;33m(\u001b[0m\u001b[0mlist\u001b[0m\u001b[1;33m)\u001b[0m\u001b[1;33m]\u001b[0m\u001b[1;33m)\u001b[0m\u001b[1;33m\u001b[0m\u001b[0m\n\u001b[0;32m     10\u001b[0m \u001b[1;33m\u001b[0m\u001b[0m\n",
      "\u001b[1;31mTypeError\u001b[0m: slice indices must be integers or None or have an __index__ method"
     ]
    }
   ],
   "source": [
    "#進行數值測試\n",
    "\n",
    "list=[43,21,10,3,75,1,6,8,11]\n",
    "\n",
    "print(mergesort(list))"
   ]
  },
  {
   "cell_type": "markdown",
   "metadata": {},
   "source": [
    "在自己重新打過後，發現錯誤，center必須要是整數才能取值，所以在前面加上了int，才沒有錯誤"
   ]
  },
  {
   "cell_type": "code",
   "execution_count": 1,
   "metadata": {},
   "outputs": [
    {
     "name": "stdout",
     "output_type": "stream",
     "text": [
      "None\n"
     ]
    }
   ],
   "source": [
    "def mergesort(list): \n",
    "    num = len(list)\n",
    "    if num<2:\n",
    "        return list\n",
    "    else:       \n",
    "        center=int(len(list)/2)\n",
    "        #print(center)\n",
    "        left = mergesort(list[0:center])\n",
    "        right = mergesort(list[center:len(list)])\n",
    "        \n",
    "def merge(left,right):      \n",
    "    p = 0\n",
    "    q = 0\n",
    "    a1 = []    \n",
    "    while p < len(left)  and q < len(right):\n",
    "        if left[p] < right[q]:          \n",
    "            a1.append(left[p])\n",
    "            p += 1              \n",
    "        else:   \n",
    "            a1.append(right[q])\n",
    "            q += 1         \n",
    "    a1 += left[p:]\n",
    "    a1 += right[q:]\n",
    " \n",
    "    return a1\n",
    "\n",
    "list=[43,21,10,3,75,1,6,8]\n",
    "\n",
    "print(mergesort(list))"
   ]
  },
  {
   "cell_type": "markdown",
   "metadata": {},
   "source": [
    "結果一直回傳None，苦思很久到底為什麼沒有值，浪費超多時間，才發現我mergesort的function根本忘記加入\"return merge(left,right)\"讓它傳到下一個function...加入之後就可以順利執行了"
   ]
  },
  {
   "cell_type": "code",
   "execution_count": 2,
   "metadata": {},
   "outputs": [
    {
     "name": "stdout",
     "output_type": "stream",
     "text": [
      "[1, 3, 6, 8, 10, 21, 43, 75]\n"
     ]
    }
   ],
   "source": [
    "\n",
    "def mergesort(list): \n",
    "    num = len(list)\n",
    "    if num<2:\n",
    "        return list\n",
    "    else:       \n",
    "        center=int(len(list)/2)\n",
    "        #print(center)\n",
    "        left = mergesort(list[0:center])\n",
    "        right = mergesort(list[center:len(list)]) \n",
    "    return merge(left,right)\n",
    "\n",
    "def merge(left,right):      \n",
    "    p = 0\n",
    "    q = 0\n",
    "    a1 = []    \n",
    "    while p < len(left)  and q < len(right):\n",
    "        if left[p] < right[q]:          \n",
    "            a1.append(left[p])\n",
    "            p += 1              \n",
    "        else:   \n",
    "            a1.append(right[q])\n",
    "            q += 1         \n",
    "    a1 += left[p:]\n",
    "    a1 += right[q:]\n",
    " \n",
    "    return a1\n",
    "\n",
    "list=[43,21,10,3,75,1,6,8]\n",
    "print(mergesort(list))"
   ]
  },
  {
   "cell_type": "markdown",
   "metadata": {},
   "source": [
    "改成助教要求格式\n",
    "將原本的list地方改成nums"
   ]
  },
  {
   "cell_type": "code",
   "execution_count": 8,
   "metadata": {
    "collapsed": true
   },
   "outputs": [],
   "source": [
    "class Solution(object):\n",
    "    def merge_sort(self,nums): \n",
    "        \"\"\"\n",
    "        :type nums: List[int] ex:[3,2,-4,6,4,2,19],[5,1,1,2,0,0]\n",
    "        :rtype: List[int] ex:[-4,2,2,3,4,6,19],[0,0,1,1,2,5]\n",
    "        \"\"\"\n",
    "        list=nums\n",
    "        \n",
    "        def mergesort(list): \n",
    "            num = len(list)\n",
    "            if num<2:\n",
    "                return list\n",
    "            else:       \n",
    "                center=int(len(list)/2)\n",
    "                #print(center)\n",
    "                left = mergesort(list[0:center])\n",
    "                right = mergesort(list[center:len(list)]) \n",
    "            return merge(left,right)\n",
    "\n",
    "        def merge(left,right):      \n",
    "            p = 0\n",
    "            q = 0\n",
    "            a1 = []    \n",
    "            while p < len(left)  and q < len(right):\n",
    "                if left[p] < right[q]:          \n",
    "                    a1.append(left[p])\n",
    "                    p += 1              \n",
    "                else:   \n",
    "                    a1.append(right[q])\n",
    "                    q += 1         \n",
    "            a1 += left[p:]\n",
    "            a1 += right[q:]\n",
    "\n",
    "            return a1\n",
    "        \n",
    "        print(mergesort(list))"
   ]
  },
  {
   "cell_type": "code",
   "execution_count": 9,
   "metadata": {},
   "outputs": [
    {
     "name": "stdout",
     "output_type": "stream",
     "text": [
      "[-4, 2, 2, 3, 4, 6, 19]\n"
     ]
    }
   ],
   "source": [
    "output=Solution().merge_sort([3,2,-4,6,4,2,19])\n",
    "output"
   ]
  },
  {
   "cell_type": "markdown",
   "metadata": {
    "collapsed": true
   },
   "source": [
    "流程圖\n",
    "------"
   ]
  },
  {
   "cell_type": "markdown",
   "metadata": {},
   "source": [
    "![image](https://raw.githubusercontent.com/tiffany1020/lesson/master/Week6/merge%20sort%20%E6%B5%81%E7%A8%8B%E5%9C%96.jpg)"
   ]
  },
  {
   "cell_type": "markdown",
   "metadata": {},
   "source": [
    "參考資料彙整:\n",
    "-------\n",
    "1. http://alrightchiu.github.io/SecondRound/comparison-sort-merge-sorthe-bing-pai-xu-fa.html\n",
    "2. https://runestone.academy/runestone/books/published/pythonds/SortSearch/TheMergeSort.html "
   ]
  }
 ],
 "metadata": {
  "kernelspec": {
   "display_name": "Python 3",
   "language": "python",
   "name": "python3"
  },
  "language_info": {
   "codemirror_mode": {
    "name": "ipython",
    "version": 3
   },
   "file_extension": ".py",
   "mimetype": "text/x-python",
   "name": "python",
   "nbconvert_exporter": "python",
   "pygments_lexer": "ipython3",
   "version": "3.6.1"
  }
 },
 "nbformat": 4,
 "nbformat_minor": 2
}
