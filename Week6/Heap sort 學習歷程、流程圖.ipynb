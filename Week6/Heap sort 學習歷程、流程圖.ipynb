{
 "cells": [
  {
   "cell_type": "markdown",
   "metadata": {},
   "source": [
    "Heap Sort 學習歷程\n",
    "----------\n"
   ]
  },
  {
   "cell_type": "markdown",
   "metadata": {},
   "source": [
    "簡介:\n",
    "可分為Max Heap和Min Heap兩種\n",
    "1. Max Heap：在每一個subtree中，root之「數值」要比兩個child之「數值」還要大。\n",
    "2. Min Heap：在每一個subtree中，root之「數值」要比兩個child之「數值」還要小。\n",
    "\n",
    "參考資料:http://alrightchiu.github.io/SecondRound/comparison-sort-heap-sortdui-ji-pai-xu-fa.html"
   ]
  },
  {
   "cell_type": "markdown",
   "metadata": {},
   "source": [
    "想法:\n",
    "上課時，老師以[4,3,5,6,1,2]這組list在黑板上實際帶我們畫過一次Max Heap的排列過程。首先將數列，由上至下，由左至右畫成二元樹。並訂最上面的數index=0，下一層的左邊為2i+1=1，右邊為2i+2=2...以此類推下去。\n",
    "\n",
    "→所以我打算定index值，然後開始進行比大小，一層一層搬移上去，當最大值找到後，就取出，進入下一次的循環。"
   ]
  },
  {
   "cell_type": "code",
   "execution_count": 71,
   "metadata": {},
   "outputs": [
    {
     "data": {
      "text/plain": [
       "2"
      ]
     },
     "execution_count": 71,
     "metadata": {},
     "output_type": "execute_result"
    }
   ],
   "source": [
    "list=[4,3,5,6,1,2]\n",
    "list[5]"
   ]
  },
  {
   "cell_type": "code",
   "execution_count": 72,
   "metadata": {},
   "outputs": [
    {
     "name": "stdout",
     "output_type": "stream",
     "text": [
      "---2 4 5\n",
      "[5, 3, 4, 6, 1, 2]\n"
     ]
    }
   ],
   "source": [
    "# 進行第一層(i=0)比較，嘗試將兩數值交換\n",
    "i=0\n",
    "L=2*i+1\n",
    "R=2*i+2\n",
    "\n",
    "if list[L]>list[i]:\n",
    "    list[L],list[i]=list[i],list[L]\n",
    "    print('---1',list[i],list[L])\n",
    "    \n",
    "elif list[R]>list[i]:\n",
    "    list[R],list[i]=list[i],list[R]\n",
    "    print('---2',list[R],list[i])\n",
    "    print(list)\n"
   ]
  },
  {
   "cell_type": "code",
   "execution_count": 73,
   "metadata": {},
   "outputs": [
    {
     "name": "stdout",
     "output_type": "stream",
     "text": [
      "---1 6 3\n",
      "[5, 6, 4, 3, 1, 2]\n"
     ]
    }
   ],
   "source": [
    "# 進行第二層(i=1)的數字大小比較\n",
    "i=1\n",
    "L=2*i+1\n",
    "R=2*i+2\n",
    "\n",
    "if list[L]>list[i]:\n",
    "    list[L],list[i]=list[i],list[L]\n",
    "    print('---1',list[i],list[L])\n",
    "    print(list)\n",
    "    \n",
    "elif list[R]>list[i]:\n",
    "    list[R],list[i]=list[i],list[R]\n",
    "    print('---2',list[R],list[i])\n",
    "    print(list)"
   ]
  },
  {
   "cell_type": "code",
   "execution_count": 75,
   "metadata": {},
   "outputs": [
    {
     "name": "stdout",
     "output_type": "stream",
     "text": [
      "---1 2 1\n",
      "[2, 1]\n",
      "[1]\n",
      "[2]\n",
      "----\n",
      "[]\n",
      "[1]\n",
      "----\n"
     ]
    },
    {
     "ename": "IndexError",
     "evalue": "list index out of range",
     "output_type": "error",
     "traceback": [
      "\u001b[1;31m---------------------------------------------------------------------------\u001b[0m",
      "\u001b[1;31mIndexError\u001b[0m                                Traceback (most recent call last)",
      "\u001b[1;32m<ipython-input-75-e856ef166bd6>\u001b[0m in \u001b[0;36m<module>\u001b[1;34m()\u001b[0m\n\u001b[0;32m     15\u001b[0m \u001b[1;33m\u001b[0m\u001b[0m\n\u001b[0;32m     16\u001b[0m \u001b[1;31m#確定最上面的值為最大值後，將它取出存到新的list\u001b[0m\u001b[1;33m\u001b[0m\u001b[1;33m\u001b[0m\u001b[0m\n\u001b[1;32m---> 17\u001b[1;33m \u001b[1;32mwhile\u001b[0m \u001b[0mlist\u001b[0m\u001b[1;33m[\u001b[0m\u001b[0mi\u001b[0m\u001b[1;33m]\u001b[0m\u001b[1;33m==\u001b[0m\u001b[0mmax\u001b[0m\u001b[1;33m(\u001b[0m\u001b[0mlist\u001b[0m\u001b[1;33m)\u001b[0m\u001b[1;33m:\u001b[0m\u001b[1;33m\u001b[0m\u001b[0m\n\u001b[0m\u001b[0;32m     18\u001b[0m     \u001b[0ma1\u001b[0m\u001b[1;33m=\u001b[0m\u001b[1;33m[\u001b[0m\u001b[1;33m]\u001b[0m\u001b[1;33m\u001b[0m\u001b[0m\n\u001b[0;32m     19\u001b[0m     \u001b[0ma1\u001b[0m\u001b[1;33m.\u001b[0m\u001b[0mappend\u001b[0m\u001b[1;33m(\u001b[0m\u001b[0mlist\u001b[0m\u001b[1;33m[\u001b[0m\u001b[0mi\u001b[0m\u001b[1;33m]\u001b[0m\u001b[1;33m)\u001b[0m\u001b[1;33m\u001b[0m\u001b[0m\n",
      "\u001b[1;31mIndexError\u001b[0m: list index out of range"
     ]
    }
   ],
   "source": [
    "# 發現原本在最下層的6成功搬移上去，所以再次進行(i=0)的數字大小比較，讓6移到最上面\n",
    "i=0\n",
    "L=2*i+1\n",
    "R=2*i+2\n",
    "\n",
    "if list[L]>list[i]:\n",
    "    list[L],list[i]=list[i],list[L]\n",
    "    print('---1',list[i],list[L])\n",
    "    print(list)\n",
    "    \n",
    "elif list[R]>list[i]:\n",
    "    list[R],list[i]=list[i],list[R]\n",
    "    print('---2',list[R],list[i])\n",
    "    print(list)\n",
    "\n",
    "#確定最上面的值為最大值後，將它取出存到新的list    \n",
    "while list[i]==max(list):\n",
    "    a1=[]\n",
    "    a1.append(list[i])\n",
    "    del list[i]\n",
    "    print(list)\n",
    "    print(a1)\n",
    "    print('----')"
   ]
  },
  {
   "cell_type": "markdown",
   "metadata": {},
   "source": [
    "此時發現2個問題:\n",
    "1. 若要順利搬移，每次都要重新照順序執行下來\n",
    "2. 上面寫的while在儲存最大值的地方錯誤\n",
    "\n",
    "打算先寫個function來比較數值並交換，然後修改存取最大值的方法。"
   ]
  },
  {
   "cell_type": "code",
   "execution_count": 95,
   "metadata": {
    "collapsed": true
   },
   "outputs": [],
   "source": [
    "def change(c1,c2):\n",
    "    list[c1],list[c2]=list[c2],list[c1]\n",
    "    return list[c1],list[c2]"
   ]
  },
  {
   "cell_type": "code",
   "execution_count": 96,
   "metadata": {},
   "outputs": [
    {
     "name": "stdout",
     "output_type": "stream",
     "text": [
      "[5, 3, 4, 6, 1, 2]\n",
      "[5, 6, 4, 3, 1, 2]\n"
     ]
    },
    {
     "ename": "IndexError",
     "evalue": "list index out of range",
     "output_type": "error",
     "traceback": [
      "\u001b[1;31m---------------------------------------------------------------------------\u001b[0m",
      "\u001b[1;31mIndexError\u001b[0m                                Traceback (most recent call last)",
      "\u001b[1;32m<ipython-input-96-61cb39afafcd>\u001b[0m in \u001b[0;36m<module>\u001b[1;34m()\u001b[0m\n\u001b[0;32m     11\u001b[0m \u001b[1;33m\u001b[0m\u001b[0m\n\u001b[0;32m     12\u001b[0m \u001b[0mlist\u001b[0m\u001b[1;33m=\u001b[0m\u001b[1;33m[\u001b[0m\u001b[1;36m4\u001b[0m\u001b[1;33m,\u001b[0m\u001b[1;36m3\u001b[0m\u001b[1;33m,\u001b[0m\u001b[1;36m5\u001b[0m\u001b[1;33m,\u001b[0m\u001b[1;36m6\u001b[0m\u001b[1;33m,\u001b[0m\u001b[1;36m1\u001b[0m\u001b[1;33m,\u001b[0m\u001b[1;36m2\u001b[0m\u001b[1;33m]\u001b[0m\u001b[1;33m\u001b[0m\u001b[0m\n\u001b[1;32m---> 13\u001b[1;33m \u001b[0mheapsort\u001b[0m\u001b[1;33m(\u001b[0m\u001b[0mlist\u001b[0m\u001b[1;33m)\u001b[0m\u001b[1;33m\u001b[0m\u001b[0m\n\u001b[0m",
      "\u001b[1;32m<ipython-input-96-61cb39afafcd>\u001b[0m in \u001b[0;36mheapsort\u001b[1;34m(list)\u001b[0m\n\u001b[0;32m      6\u001b[0m             \u001b[0mchange\u001b[0m\u001b[1;33m(\u001b[0m\u001b[0mL\u001b[0m\u001b[1;33m,\u001b[0m\u001b[0mi\u001b[0m\u001b[1;33m)\u001b[0m\u001b[1;33m\u001b[0m\u001b[0m\n\u001b[0;32m      7\u001b[0m             \u001b[0mprint\u001b[0m\u001b[1;33m(\u001b[0m\u001b[0mlist\u001b[0m\u001b[1;33m)\u001b[0m\u001b[1;33m\u001b[0m\u001b[0m\n\u001b[1;32m----> 8\u001b[1;33m         \u001b[1;32melif\u001b[0m \u001b[0mlist\u001b[0m\u001b[1;33m[\u001b[0m\u001b[0mR\u001b[0m\u001b[1;33m]\u001b[0m\u001b[1;33m>\u001b[0m\u001b[0mlist\u001b[0m\u001b[1;33m[\u001b[0m\u001b[0mi\u001b[0m\u001b[1;33m]\u001b[0m\u001b[1;33m:\u001b[0m\u001b[1;33m\u001b[0m\u001b[0m\n\u001b[0m\u001b[0;32m      9\u001b[0m             \u001b[0mchange\u001b[0m\u001b[1;33m(\u001b[0m\u001b[0mR\u001b[0m\u001b[1;33m,\u001b[0m\u001b[0mi\u001b[0m\u001b[1;33m)\u001b[0m\u001b[1;33m\u001b[0m\u001b[0m\n\u001b[0;32m     10\u001b[0m             \u001b[0mprint\u001b[0m\u001b[1;33m(\u001b[0m\u001b[0mlist\u001b[0m\u001b[1;33m)\u001b[0m\u001b[1;33m\u001b[0m\u001b[0m\n",
      "\u001b[1;31mIndexError\u001b[0m: list index out of range"
     ]
    }
   ],
   "source": [
    "def heapsort(list):\n",
    "    for i in range(len(list)):\n",
    "        L=2*i+1\n",
    "        R=2*i+2\n",
    "        if list[L]>list[i]:\n",
    "            change(L,i)\n",
    "            print(list)\n",
    "        elif list[R]>list[i]:\n",
    "            change(R,i)           \n",
    "            print(list)\n",
    "            \n",
    "list=[4,3,5,6,1,2]        \n",
    "heapsort(list)        "
   ]
  },
  {
   "cell_type": "code",
   "execution_count": 184,
   "metadata": {},
   "outputs": [
    {
     "name": "stdout",
     "output_type": "stream",
     "text": [
      "[5, 3, 4, 6, 1, 2]\n",
      "[5, 6, 4, 3, 1, 2]\n"
     ]
    }
   ],
   "source": [
    "# 所以改成不用for迴圈，直接使用i+1的方法\n",
    "\n",
    "def change(c1,c2):\n",
    "    list[c1],list[c2]=list[c2],list[c1]\n",
    "    return list[c1],list[c2]\n",
    "\n",
    "\n",
    "def heapsort(list,i):\n",
    "    \n",
    "    L=2*i+1\n",
    "    R=2*i+2\n",
    "    if list[L]>list[i]:\n",
    "        change(L,i)\n",
    "        print(list)\n",
    "    elif list[R]>list[i]:\n",
    "        change(R,i)           \n",
    "        print(list)\n",
    "        i+=1\n",
    "        heapsort(list,i)\n",
    "  \n",
    "            \n",
    "list=[4,3,5,6,1,2] \n",
    "i=0\n",
    "heapsort(list,0)  "
   ]
  },
  {
   "cell_type": "code",
   "execution_count": null,
   "metadata": {
    "collapsed": true
   },
   "outputs": [],
   "source": []
  },
  {
   "cell_type": "markdown",
   "metadata": {},
   "source": [
    "雖然第二層搬移成功，但發現從i=0開始，之後變成i=1檢查下一層，就沒辦法再回到上一層(i=0時)做比較，而且i也不應該是一直加上去，突然覺得我對Heap Sort是不是理解有問題QQ \n"
   ]
  },
  {
   "cell_type": "markdown",
   "metadata": {},
   "source": [
    "參考以下網址:https://www.ptt.cc/bbs/TransCSI/M.1187871832.A.8E2.html\n",
    "\n",
    "發現可以從最後一個child的父點開始調整，所以打算以此概念重新想過"
   ]
  },
  {
   "cell_type": "code",
   "execution_count": 1,
   "metadata": {
    "collapsed": true
   },
   "outputs": [],
   "source": [
    "def heap(alist,i,L,R):\n",
    "    if list[L]>list[i]:\n",
    "        change(L,i)\n",
    "        print(list)\n",
    "    elif list[R]>list[i]:\n",
    "        change(R,i)           \n",
    "        print(list)\n",
    "  "
   ]
  },
  {
   "cell_type": "code",
   "execution_count": 2,
   "metadata": {},
   "outputs": [
    {
     "name": "stdout",
     "output_type": "stream",
     "text": [
      "4 9 10\n"
     ]
    },
    {
     "ename": "TypeError",
     "evalue": "'type' object is not subscriptable",
     "output_type": "error",
     "traceback": [
      "\u001b[1;31m---------------------------------------------------------------------------\u001b[0m",
      "\u001b[1;31mTypeError\u001b[0m                                 Traceback (most recent call last)",
      "\u001b[1;32m<ipython-input-2-d5c9303dc73a>\u001b[0m in \u001b[0;36m<module>\u001b[1;34m()\u001b[0m\n\u001b[0;32m     11\u001b[0m     \u001b[0mR\u001b[0m\u001b[1;33m=\u001b[0m\u001b[1;36m2\u001b[0m\u001b[1;33m*\u001b[0m\u001b[0mi\u001b[0m\u001b[1;33m+\u001b[0m\u001b[1;36m2\u001b[0m\u001b[1;33m\u001b[0m\u001b[0m\n\u001b[0;32m     12\u001b[0m     \u001b[0mprint\u001b[0m\u001b[1;33m(\u001b[0m\u001b[0mi\u001b[0m\u001b[1;33m,\u001b[0m\u001b[0mL\u001b[0m\u001b[1;33m,\u001b[0m\u001b[0mR\u001b[0m\u001b[1;33m)\u001b[0m  \u001b[1;31m#印出來看看\u001b[0m\u001b[1;33m\u001b[0m\u001b[0m\n\u001b[1;32m---> 13\u001b[1;33m     \u001b[0mheap\u001b[0m\u001b[1;33m(\u001b[0m\u001b[0malist\u001b[0m\u001b[1;33m,\u001b[0m\u001b[0mi\u001b[0m\u001b[1;33m,\u001b[0m\u001b[0mL\u001b[0m\u001b[1;33m,\u001b[0m\u001b[0mR\u001b[0m\u001b[1;33m)\u001b[0m\u001b[1;33m\u001b[0m\u001b[0m\n\u001b[0m\u001b[0;32m     14\u001b[0m \u001b[1;33m\u001b[0m\u001b[0m\n\u001b[0;32m     15\u001b[0m \u001b[1;32mdef\u001b[0m \u001b[0mheap\u001b[0m\u001b[1;33m(\u001b[0m\u001b[0malist\u001b[0m\u001b[1;33m,\u001b[0m\u001b[0mi\u001b[0m\u001b[1;33m,\u001b[0m\u001b[0mL\u001b[0m\u001b[1;33m,\u001b[0m\u001b[0mR\u001b[0m\u001b[1;33m)\u001b[0m\u001b[1;33m:\u001b[0m\u001b[1;33m\u001b[0m\u001b[0m\n",
      "\u001b[1;32m<ipython-input-1-201020ec2ae1>\u001b[0m in \u001b[0;36mheap\u001b[1;34m(alist, i, L, R)\u001b[0m\n\u001b[0;32m      1\u001b[0m \u001b[1;32mdef\u001b[0m \u001b[0mheap\u001b[0m\u001b[1;33m(\u001b[0m\u001b[0malist\u001b[0m\u001b[1;33m,\u001b[0m\u001b[0mi\u001b[0m\u001b[1;33m,\u001b[0m\u001b[0mL\u001b[0m\u001b[1;33m,\u001b[0m\u001b[0mR\u001b[0m\u001b[1;33m)\u001b[0m\u001b[1;33m:\u001b[0m\u001b[1;33m\u001b[0m\u001b[0m\n\u001b[1;32m----> 2\u001b[1;33m     \u001b[1;32mif\u001b[0m \u001b[0mlist\u001b[0m\u001b[1;33m[\u001b[0m\u001b[0mL\u001b[0m\u001b[1;33m]\u001b[0m\u001b[1;33m>\u001b[0m\u001b[0mlist\u001b[0m\u001b[1;33m[\u001b[0m\u001b[0mi\u001b[0m\u001b[1;33m]\u001b[0m\u001b[1;33m:\u001b[0m\u001b[1;33m\u001b[0m\u001b[0m\n\u001b[0m\u001b[0;32m      3\u001b[0m         \u001b[0mchange\u001b[0m\u001b[1;33m(\u001b[0m\u001b[0mL\u001b[0m\u001b[1;33m,\u001b[0m\u001b[0mi\u001b[0m\u001b[1;33m)\u001b[0m\u001b[1;33m\u001b[0m\u001b[0m\n\u001b[0;32m      4\u001b[0m         \u001b[0mprint\u001b[0m\u001b[1;33m(\u001b[0m\u001b[0mlist\u001b[0m\u001b[1;33m)\u001b[0m\u001b[1;33m\u001b[0m\u001b[0m\n\u001b[0;32m      5\u001b[0m     \u001b[1;32melif\u001b[0m \u001b[0mlist\u001b[0m\u001b[1;33m[\u001b[0m\u001b[0mR\u001b[0m\u001b[1;33m]\u001b[0m\u001b[1;33m>\u001b[0m\u001b[0mlist\u001b[0m\u001b[1;33m[\u001b[0m\u001b[0mi\u001b[0m\u001b[1;33m]\u001b[0m\u001b[1;33m:\u001b[0m\u001b[1;33m\u001b[0m\u001b[0m\n",
      "\u001b[1;31mTypeError\u001b[0m: 'type' object is not subscriptable"
     ]
    }
   ],
   "source": [
    "alist=[3, 76, 11, 49, 25, 54, 66, 40, 32, 27]\n",
    "\n",
    "index_count=int((len(alist)/2)-1) ## 4\n",
    "\n",
    "def change(c1,c2):\n",
    "    alist[c1],alist[c2]=alist[c2],alist[c1]\n",
    "    return alist[c1],alist[c2]\n",
    "\n",
    "for i in range(index_count,-1,-1):\n",
    "    L=2*i+1\n",
    "    R=2*i+2    \n",
    "    print(i,L,R)  #印出來看看\n",
    "    heap(alist,i,L,R)\n",
    "    \n",
    "def heap(alist,i,L,R):\n",
    "    if alist[L]>alist[i]:\n",
    "        change(L,i)\n",
    "        print(alist)\n",
    "    elif alist[R]>alist[i]:\n",
    "        change(R,i)           \n",
    "        print(alist)"
   ]
  },
  {
   "cell_type": "code",
   "execution_count": 3,
   "metadata": {},
   "outputs": [
    {
     "name": "stdout",
     "output_type": "stream",
     "text": [
      "[9, 8, 7, 6, 5, 4, 3, 2, 1, 0]\n"
     ]
    }
   ],
   "source": [
    "# 發現沒有index 10，所以應該要加上條件，先確認L和R有沒有在index內\n",
    "\n",
    "index_sum=[]\n",
    "for i in range (len(alist)-1,-1,-1):\n",
    "    index_sum.append(i)\n",
    "print(index_sum)"
   ]
  },
  {
   "cell_type": "code",
   "execution_count": 13,
   "metadata": {},
   "outputs": [
    {
     "name": "stdout",
     "output_type": "stream",
     "text": [
      "[5, 4, 3, 2, 1, 0]\n",
      "一開始: [3, 25, 11, 49, 76, 54]\n",
      "2 5 6\n",
      "[3, 25, 54, 49, 76, 11]\n",
      "變動後: [3, 25, 54, 49, 76, 11]\n",
      "-----\n",
      "一開始: [3, 25, 54, 49, 76, 11]\n",
      "1 3 4\n",
      "[3, 76, 54, 49, 25, 11]\n",
      "變動後: [3, 76, 54, 49, 25, 11]\n",
      "-----\n",
      "一開始: [3, 76, 54, 49, 25, 11]\n",
      "0 1 2\n",
      "[76, 3, 54, 49, 25, 11]\n",
      "變動後: [76, 3, 54, 49, 25, 11]\n",
      "-----\n"
     ]
    }
   ],
   "source": [
    "alist=[3,25,11,49,76,54]\n",
    "\n",
    "index_sum=[]\n",
    "for i in range (len(alist)-1,-1,-1):\n",
    "    index_sum.append(i)\n",
    "print(index_sum)\n",
    "\n",
    "index_count=int((len(alist)/2)-1) ## 4\n",
    "\n",
    "def change(c1,c2):\n",
    "    alist[c1],alist[c2]=alist[c2],alist[c1]\n",
    "    return alist[c1],alist[c2]\n",
    "\n",
    "\n",
    "def heap(alist,i,L,R):\n",
    " \n",
    "    if L in index_sum and R in index_sum:\n",
    "        if alist[L]>alist[R] and alist[L]>alist[i]:            \n",
    "            change(L,i)\n",
    "            print(alist)\n",
    "            return\n",
    "            \n",
    "        elif alist[R]>alist[L] and alist[R]>alist[i]:          \n",
    "            change(R,i)           \n",
    "            print(alist)\n",
    "            return\n",
    "        \n",
    "        else:\n",
    "            return\n",
    "        \n",
    "            \n",
    "    elif L in index_sum:\n",
    "        #print('只有左節點存在')\n",
    "        if alist[L]>alist[i]:\n",
    "            change(L,i)\n",
    "            print(alist)   \n",
    "            return \n",
    "        else:\n",
    "            return\n",
    "        \n",
    "        \n",
    "        \n",
    "    elif R in index_sum:\n",
    "        #print('只有右節點存在')\n",
    "        if alist[R]>alist[i]:\n",
    "            print('222')\n",
    "            change(R,i)           \n",
    "            print(alist)\n",
    "            return \n",
    "        else:\n",
    "            return\n",
    "    \n",
    "    \n",
    "    \n",
    "    return\n",
    "        \n",
    "index_count=int((len(alist)/2)-1) ## 4\n",
    "       \n",
    "for i in range(index_count,-1,-1):\n",
    "    L=2*i+1\n",
    "    R=2*i+2    \n",
    "    print('一開始:',alist)\n",
    "    print(i,L,R) #印出來看看\n",
    "    heap(alist,i,L,R)\n",
    "    print('變動後:',alist)\n",
    "    print('-----')\n",
    "    \n",
    "\n",
    "  "
   ]
  },
  {
   "cell_type": "markdown",
   "metadata": {
    "collapsed": true
   },
   "source": [
    "發現最大數76成功搬到最上面了，所以下一步要將最後的數(11)和他交換，然後取出75，進行下一次的迴圈"
   ]
  },
  {
   "cell_type": "code",
   "execution_count": 3,
   "metadata": {},
   "outputs": [
    {
     "name": "stdout",
     "output_type": "stream",
     "text": [
      "[5, 4, 3, 2, 1, 0] [11, 3, 54, 49, 25, 76]\n"
     ]
    }
   ],
   "source": [
    "alist[0],alist[len(alist)-1]=alist[len(alist)-1],alist[0]\n",
    "print(index_sum,alist)"
   ]
  },
  {
   "cell_type": "markdown",
   "metadata": {},
   "source": [
    "發現用append無法從後面存回來，所以參考:https://www.runoob.com/python/att-list-insert.html\n",
    "決定使用insert，指定存取的位置，然後刪除最後的數"
   ]
  },
  {
   "cell_type": "code",
   "execution_count": 4,
   "metadata": {},
   "outputs": [
    {
     "name": "stdout",
     "output_type": "stream",
     "text": [
      "[76] [11, 3, 54, 49, 25, 76]\n"
     ]
    }
   ],
   "source": [
    "new_list=[]\n",
    "new_list.insert(0,alist[len(alist)-1])\n",
    "\n",
    "#del alist[k]\n",
    "#alist\n",
    "\n",
    "print(new_list,alist)"
   ]
  },
  {
   "cell_type": "code",
   "execution_count": 5,
   "metadata": {},
   "outputs": [
    {
     "data": {
      "text/plain": [
       "[11, 3, 54, 49, 25]"
      ]
     },
     "execution_count": 5,
     "metadata": {},
     "output_type": "execute_result"
    }
   ],
   "source": [
    "del alist[len(alist)-1]\n",
    "alist\n"
   ]
  },
  {
   "cell_type": "code",
   "execution_count": 6,
   "metadata": {
    "collapsed": true
   },
   "outputs": [],
   "source": [
    "del index_sum[0]"
   ]
  },
  {
   "cell_type": "code",
   "execution_count": 7,
   "metadata": {},
   "outputs": [
    {
     "data": {
      "text/plain": [
       "([4, 3, 2, 1, 0], [11, 3, 54, 49, 25])"
      ]
     },
     "execution_count": 7,
     "metadata": {},
     "output_type": "execute_result"
    }
   ],
   "source": [
    "index_sum,alist"
   ]
  },
  {
   "cell_type": "markdown",
   "metadata": {},
   "source": [
    "最後寫個迴圈把這些串聯起來"
   ]
  },
  {
   "cell_type": "code",
   "execution_count": 10,
   "metadata": {
    "scrolled": true
   },
   "outputs": [
    {
     "name": "stdout",
     "output_type": "stream",
     "text": [
      "[5, 4, 3, 2, 1, 0]\n",
      "2 5 6\n",
      "[3, 76, 54, 49, 25, 11]\n",
      "變動後: [3, 76, 54, 49, 25, 11]\n",
      "-----\n",
      "1 3 4\n",
      "變動後: [3, 76, 54, 49, 25, 11]\n",
      "-----\n",
      "0 1 2\n",
      "[76, 3, 54, 49, 25, 11]\n",
      "變動後: [76, 3, 54, 49, 25, 11]\n",
      "-----\n",
      "交換後: [11, 3, 54, 49, 25, 76]\n",
      "alist長度: 5\n",
      "***** [4, 3, 2, 1, 0] [76] [11, 3, 54, 49, 25]\n",
      "1 3 4\n",
      "[11, 49, 54, 3, 25]\n",
      "變動後: [11, 49, 54, 3, 25]\n",
      "-----\n",
      "0 1 2\n",
      "[54, 49, 11, 3, 25]\n",
      "變動後: [54, 49, 11, 3, 25]\n",
      "-----\n",
      "交換後: [25, 49, 11, 3, 54]\n",
      "alist長度: 4\n",
      "***** [3, 2, 1, 0] [54, 76] [25, 49, 11, 3]\n",
      "1 3 4\n",
      "變動後: [25, 49, 11, 3]\n",
      "-----\n",
      "0 1 2\n",
      "[49, 25, 11, 3]\n",
      "變動後: [49, 25, 11, 3]\n",
      "-----\n",
      "交換後: [3, 25, 11, 49]\n",
      "alist長度: 3\n",
      "***** [2, 1, 0] [49, 54, 76] [3, 25, 11]\n",
      "0 1 2\n",
      "[25, 3, 11]\n",
      "變動後: [25, 3, 11]\n",
      "-----\n",
      "交換後: [11, 3, 25]\n",
      "alist長度: 2\n",
      "***** [1, 0] [25, 49, 54, 76] [11, 3]\n",
      "0 1 2\n",
      "變動後: [11, 3]\n",
      "-----\n",
      "交換後: [3, 11]\n",
      "alist長度: 1\n",
      "***** [0] [11, 25, 49, 54, 76] [3]\n",
      "0 1 2\n",
      "變動後: [3]\n",
      "-----\n",
      "交換後: [3]\n",
      "alist長度: 0\n",
      "***** [] [3, 11, 25, 49, 54, 76] []\n",
      "[3, 11, 25, 49, 54, 76]\n"
     ]
    }
   ],
   "source": [
    "def change(c1,c2):\n",
    "    alist[c1],alist[c2]=alist[c2],alist[c1]\n",
    "    return alist[c1],alist[c2]\n",
    "\n",
    "\n",
    "def heap(alist,i,L,R): \n",
    "    if L in index_sum and R in index_sum:\n",
    "        if alist[L]>=alist[R] and alist[L]>=alist[i]:            \n",
    "            change(L,i)\n",
    "            print(alist)\n",
    "            return            \n",
    "        elif alist[R]>=alist[L] and alist[R]>=alist[i]:          \n",
    "            change(R,i)           \n",
    "            print(alist)\n",
    "            return        \n",
    "        else:\n",
    "            return\n",
    "                \n",
    "    elif L in index_sum:\n",
    "        #print('只有左節點存在')\n",
    "        if alist[L]>=alist[i]:\n",
    "            change(L,i)\n",
    "            print(alist)   \n",
    "            return \n",
    "        else:\n",
    "            return\n",
    "           \n",
    "    elif R in index_sum:\n",
    "        #print('只有右節點存在')\n",
    "        if alist[R]>=alist[i]:\n",
    "            print('222')\n",
    "            change(R,i)           \n",
    "            print(alist)\n",
    "            return \n",
    "        else:\n",
    "            return\n",
    "        \n",
    "    return\n",
    "\n",
    "\n",
    "\n",
    "\n",
    "\n",
    "alist=[3, 76, 11, 49, 25, 54]\n",
    "new_list=[]\n",
    "\n",
    "index_sum=[]\n",
    "for i in range (len(alist)-1,-1,-1):\n",
    "    index_sum.append(i)\n",
    "print(index_sum)\n",
    "\n",
    " \n",
    "new_list=[]\n",
    "while len(alist) !=0:\n",
    "    index_count=int((len(alist)/2)-1) ## 4\n",
    "   \n",
    "\n",
    "    for i in range(index_count,-1,-1):\n",
    "        L=2*i+1\n",
    "        R=2*i+2    \n",
    "        # print('一開始:',alist)\n",
    "        print(i,L,R) #印出來看看\n",
    "        heap(alist,i,L,R)\n",
    "        print('變動後:',alist)\n",
    "        print('-----')\n",
    "        \n",
    "    alist[0],alist[len(alist)-1]=alist[len(alist)-1],alist[0]\n",
    "    print('交換後:',alist)\n",
    "    \n",
    "  \n",
    "\n",
    "    new_list.insert(0,alist[len(alist)-1])\n",
    "    \n",
    "    del alist[len(alist)-1]\n",
    "    del index_sum[0]\n",
    "    \n",
    "    print('alist長度:',len(alist))\n",
    "    print('*****',index_sum,new_list,alist)\n",
    "    \n",
    "\n",
    "print(new_list)"
   ]
  },
  {
   "cell_type": "markdown",
   "metadata": {
    "collapsed": true
   },
   "source": [
    "insert不能在空的new_list指定index存數字!!!\n",
    "所以將alist的最後一位數存在new_list的index 0"
   ]
  },
  {
   "cell_type": "markdown",
   "metadata": {},
   "source": [
    "改成助教要求格式"
   ]
  },
  {
   "cell_type": "code",
   "execution_count": 11,
   "metadata": {
    "collapsed": true
   },
   "outputs": [],
   "source": [
    "class Solution(object):\n",
    "    def heap_sort(self,nums):\n",
    "        alist=nums\n",
    "          \n",
    "\n",
    "        def change(c1,c2):\n",
    "            alist[c1],alist[c2]=alist[c2],alist[c1]\n",
    "            return alist[c1],alist[c2]\n",
    "\n",
    "\n",
    "        def heap(alist,i,L,R): \n",
    "            if L in index_sum and R in index_sum:\n",
    "                if alist[L]>=alist[R] and alist[L]>=alist[i]:            \n",
    "                    change(L,i)\n",
    "                    #print(alist)\n",
    "                    return            \n",
    "                elif alist[R]>=alist[L] and alist[R]>=alist[i]:          \n",
    "                    change(R,i)           \n",
    "                    #print(alist)\n",
    "                    return        \n",
    "                else:\n",
    "                    return\n",
    "\n",
    "            elif L in index_sum:\n",
    "                #print('只有左節點存在')\n",
    "                if alist[L]>=alist[i]:\n",
    "                    change(L,i)\n",
    "                    #print(alist)   \n",
    "                    return \n",
    "                else:\n",
    "                    return\n",
    "\n",
    "            elif R in index_sum:\n",
    "                #print('只有右節點存在')\n",
    "                if alist[R]>=alist[i]:\n",
    "                    change(R,i)           \n",
    "                    #print(alist)\n",
    "                    return \n",
    "                else:\n",
    "                    return\n",
    "\n",
    "            return\n",
    "\n",
    "\n",
    "        new_list=[]\n",
    "\n",
    "        index_sum=[]\n",
    "        for i in range (len(alist)-1,-1,-1):\n",
    "            index_sum.append(i)\n",
    "        #print(index_sum)\n",
    "\n",
    "\n",
    "        new_list=[]\n",
    "        while len(alist) !=0:\n",
    "            index_count=int((len(alist)/2)-1) ## 4\n",
    "\n",
    "\n",
    "            for i in range(index_count,-1,-1):\n",
    "                L=2*i+1\n",
    "                R=2*i+2    \n",
    "                # print('一開始:',alist)\n",
    "                #print(i,L,R) #印出來看看\n",
    "                heap(alist,i,L,R)\n",
    "                #print('變動後:',alist)\n",
    "                #print('-----')\n",
    "\n",
    "            alist[0],alist[len(alist)-1]=alist[len(alist)-1],alist[0]\n",
    "            #print('交換後:',alist)\n",
    "\n",
    "\n",
    "\n",
    "            new_list.insert(0,alist[len(alist)-1])\n",
    "\n",
    "            del alist[len(alist)-1]\n",
    "            del index_sum[0]\n",
    "\n",
    "            #print('alist長度:',len(alist))\n",
    "            #print('*****',index_sum,new_list,alist)\n",
    "\n",
    "\n",
    "        print(new_list)\n"
   ]
  },
  {
   "cell_type": "code",
   "execution_count": 12,
   "metadata": {},
   "outputs": [
    {
     "name": "stdout",
     "output_type": "stream",
     "text": [
      "[-4, 2, 2, 3, 4, 6, 19]\n"
     ]
    }
   ],
   "source": [
    "output=Solution().heap_sort([3,2,-4,6,4,2,19])\n",
    "output"
   ]
  },
  {
   "cell_type": "markdown",
   "metadata": {},
   "source": [
    "流程圖\n",
    "------"
   ]
  },
  {
   "cell_type": "markdown",
   "metadata": {},
   "source": [
    "![image](https://raw.githubusercontent.com/tiffany1020/lesson/master/Week6/heap%20sort%20%E6%B5%81%E7%A8%8B%E5%9C%96.jpg)"
   ]
  },
  {
   "cell_type": "markdown",
   "metadata": {},
   "source": [
    "參考資料彙整:\n",
    "-------------\n",
    "1. http://alrightchiu.github.io/SecondRound/comparison-sort-heap-sortdui-ji-pai-xu-fa.html\n",
    "2. https://www.ptt.cc/bbs/TransCSI/M.1187871832.A.8E2.html\n",
    "3. https://www.runoob.com/python/att-list-insert.html "
   ]
  }
 ],
 "metadata": {
  "kernelspec": {
   "display_name": "Python 3",
   "language": "python",
   "name": "python3"
  },
  "language_info": {
   "codemirror_mode": {
    "name": "ipython",
    "version": 3
   },
   "file_extension": ".py",
   "mimetype": "text/x-python",
   "name": "python",
   "nbconvert_exporter": "python",
   "pygments_lexer": "ipython3",
   "version": "3.6.1"
  }
 },
 "nbformat": 4,
 "nbformat_minor": 2
}
