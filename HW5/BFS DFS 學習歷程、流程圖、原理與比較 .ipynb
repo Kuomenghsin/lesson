{
 "cells": [
  {
   "cell_type": "markdown",
   "metadata": {},
   "source": [
    "## BFS原理\n",
    "- 廣度優先搜尋（英語：Breadth-First-Search，縮寫為BFS），是一種圖形搜尋演算法。簡單的說，BFS是從根節點開始，沿著樹的寬度遍歷樹的節點。如果所有節點均被存取，則演算法中止。\n",
    "\n",
    "- BFS是一種盲目搜尋法，目的是系統地展開並檢查圖中的所有節點，以找尋結果。換句話說，它並不考慮結果的可能位址，徹底地搜尋整張圖，直到找到結果為止。BFS並不使用經驗法則演算法。\n",
    "\n",
    "#### 實作方法\n",
    "1. 首先將根節點放入佇列中。\n",
    "2. 從佇列中取出第一個節點，並檢驗它是否為目標。\n",
    "   - 如果找到目標，則結束搜尋並回傳結果。\n",
    "   - 否則將它所有尚未檢驗過的直接子節點加入佇列中。\n",
    "3. 若佇列為空，表示整張圖都檢查過了——亦即圖中沒有欲搜尋的目標。\n",
    "4. 重複步驟2。\n",
    "\n",
    "#### 使用BFS好處\n",
    "1. 計算無權重圖的起點節點與每個其它節點之間的最短路徑。\n",
    "2. 計算無權重的最小生成樹。"
   ]
  },
  {
   "cell_type": "markdown",
   "metadata": {},
   "source": [
    "## DFS原理\n",
    "- 深度優先搜尋法（Depth-First Search）是一種樹（Tree）或圖（Graph）資料結構的搜索演算法，從圖的某一節點(vertex, node) 開始走訪，盡可能最深入到分支深處再回溯其他節點。可應用於有向圖與無向圖的搜尋。\n",
    "\n",
    "#### 實作方法\n",
    "\n",
    "1. 首先將根節點放入stack中。\n",
    "2. 從stack中取出第一個節點，並檢驗它是否為目標。\n",
    "    - 如果找到目標，則結束搜尋並回傳結果。\n",
    "    - 否則將它某一個尚未檢驗過的直接子節點加入stack中。\n",
    "3. 重複步驟2。\n",
    "4. 如果不存在未檢測過的直接子節點。\n",
    "    - 將上一級節點加入stack中。\n",
    "    - 重複步驟2。\n",
    "5. 重複步驟4。\n",
    "6. 若stack為空，表示整張圖都檢查過了——亦即圖中沒有欲搜尋的目標。\n",
    "\n",
    "#### 使用DFS好處\n",
    "1. 找到稀疏圖的連結元件\n",
    "2. 應用於拓撲排序\n",
    "3. 圖論中的找橋演算法\n"
   ]
  },
  {
   "cell_type": "markdown",
   "metadata": {},
   "source": [
    "## BFS與DFS比較\n",
    "![image](https://raw.githubusercontent.com/tiffany1020/lesson/master/Week13/BFS%20DFS%20%E6%AF%94%E8%BC%83.jpg)"
   ]
  },
  {
   "cell_type": "markdown",
   "metadata": {},
   "source": [
    "## 流程圖\n",
    "![image](https://raw.githubusercontent.com/tiffany1020/lesson/master/Week12/BFS%E6%B5%81%E7%A8%8B%E5%9C%96.jpg)\n",
    "![image](https://raw.githubusercontent.com/tiffany1020/lesson/master/Week13/DFS%E6%B5%81%E7%A8%8B%E5%9C%96.jpg)"
   ]
  },
  {
   "cell_type": "markdown",
   "metadata": {},
   "source": [
    "## 學習歷程"
   ]
  },
  {
   "cell_type": "code",
   "execution_count": 4,
   "metadata": {
    "collapsed": true
   },
   "outputs": [],
   "source": [
    "from collections import defaultdict \n",
    "\n",
    "class Graph: \n",
    "    def __init__(self): \n",
    "        self.graph = defaultdict(list) \n",
    "\n",
    "    def addEdge(self,u,v): \n",
    "        self.graph[u].append(v) \n",
    "        \n",
    "\n",
    "    def BFS(self, s): \n",
    "        \"\"\"\n",
    "        :type s: int\n",
    "        :rtype: list\n",
    "        \"\"\"\n",
    "    def DFS(self, s):\n",
    "        \"\"\"\n",
    "        :type s: int\n",
    "        :rtype: list\n",
    "        \"\"\""
   ]
  },
  {
   "cell_type": "code",
   "execution_count": 19,
   "metadata": {
    "collapsed": true
   },
   "outputs": [],
   "source": [
    "from collections import defaultdict \n",
    "\n",
    "class Graph: \n",
    "    def __init__(self): \n",
    "        self.graph = defaultdict(list) \n",
    "\n",
    "    def addEdge(self,u,v): \n",
    "        self.graph[u].append(v) \n",
    "        #print(u,v)\n",
    "        return \n",
    "        \n",
    "        \n",
    "g=Graph()\n",
    "g.addEdge(0,1)\n",
    "g.addEdge(0,2)\n",
    "g.addEdge(1,2)\n",
    "g.addEdge(2,0)\n",
    "g.addEdge(2,3)\n",
    "g.addEdge(3,3)\n",
    "\n"
   ]
  },
  {
   "cell_type": "markdown",
   "metadata": {},
   "source": [
    "### BFS想法:\n",
    "1. 先將起始點放入queue\n",
    "2. 將起始點的list放入暫放的list1\n",
    "3. 從第一個開始進行pop"
   ]
  },
  {
   "cell_type": "code",
   "execution_count": 92,
   "metadata": {},
   "outputs": [
    {
     "data": {
      "text/plain": [
       "([2], [0, 1])"
      ]
     },
     "execution_count": 92,
     "metadata": {},
     "output_type": "execute_result"
    }
   ],
   "source": [
    "from collections import defaultdict \n",
    "\n",
    "class Graph: \n",
    "    def __init__(self): \n",
    "        self.graph = defaultdict(list) \n",
    "\n",
    "    def addEdge(self,u,v): \n",
    "        self.graph[u].append(v) \n",
    "        #print(u,v)\n",
    "        return \n",
    "    \n",
    "    def BFS(self, s): \n",
    "        list1=[]\n",
    "        queue=[]\n",
    "        \n",
    "        queue.append(s)\n",
    "        #print(queue)\n",
    "\n",
    "        for i in self.graph[s]:\n",
    "            if i not in list1 and i not in queue:\n",
    "                list1.append(i)\n",
    "                \n",
    "        s=list1.pop(0)    \n",
    "        if s not in queue:\n",
    "            queue.append(s)    \n",
    "        return list1,queue\n",
    "    \n",
    "    \n",
    "g=Graph()\n",
    "g.addEdge(0,1)\n",
    "g.addEdge(0,2)\n",
    "g.addEdge(1,2)\n",
    "g.addEdge(2,0)\n",
    "g.addEdge(2,3)\n",
    "g.addEdge(3,3)        \n",
    "        \n",
    "g.BFS(0)\n",
    "        \n",
    "        "
   ]
  },
  {
   "cell_type": "markdown",
   "metadata": {},
   "source": [
    "##### 寫成while迴圈"
   ]
  },
  {
   "cell_type": "code",
   "execution_count": 90,
   "metadata": {},
   "outputs": [
    {
     "name": "stdout",
     "output_type": "stream",
     "text": [
      "[2, 0, 3, 1]\n"
     ]
    }
   ],
   "source": [
    "from collections import defaultdict \n",
    "\n",
    "class Graph: \n",
    "    def __init__(self): \n",
    "        self.graph = defaultdict(list) \n",
    "\n",
    "    def addEdge(self,u,v): \n",
    "        self.graph[u].append(v) \n",
    "        #print(u,v)\n",
    "        return \n",
    "    \n",
    "    \n",
    "    def count(self):\n",
    "        i=0\n",
    "        for i in self.graph:\n",
    "            i+=1\n",
    "        return i\n",
    "    \n",
    "    def BFS(self, s): \n",
    "        list1=[]\n",
    "        queue=[]\n",
    "        \n",
    "        queue.append(s)\n",
    "        \n",
    "        while len(queue) != self.count():            \n",
    "            for i in self.graph[s]:\n",
    "                if i not in list1 and i not in queue:\n",
    "                    list1.append(i)\n",
    "\n",
    "            s=list1.pop(0)   \n",
    "            if s not in queue:\n",
    "                queue.append(s)    \n",
    "        return queue\n",
    "    \n",
    "              \n",
    "g=Graph()\n",
    "g.addEdge(0,1)\n",
    "g.addEdge(0,2)\n",
    "g.addEdge(1,2)\n",
    "g.addEdge(2,0)\n",
    "g.addEdge(2,3)\n",
    "g.addEdge(3,3)        \n",
    "        \n",
    "print(g.BFS(2))\n"
   ]
  },
  {
   "cell_type": "markdown",
   "metadata": {},
   "source": [
    "### DFS想法:\n",
    "1. 先將起始點放入stack\n",
    "2. 將起始點的list放入暫放的list2\n",
    "3. 從最後一個進行pop"
   ]
  },
  {
   "cell_type": "code",
   "execution_count": 91,
   "metadata": {},
   "outputs": [
    {
     "name": "stdout",
     "output_type": "stream",
     "text": [
      "[2, 0, 3, 1]\n",
      "[2, 3, 0, 1]\n"
     ]
    }
   ],
   "source": [
    "from collections import defaultdict \n",
    "\n",
    "class Graph: \n",
    "    def __init__(self): \n",
    "        self.graph = defaultdict(list) \n",
    "\n",
    "    def addEdge(self,u,v): \n",
    "        self.graph[u].append(v) \n",
    "        #print(u,v)\n",
    "        return \n",
    "    \n",
    "    \n",
    "    def count(self):\n",
    "        i=0\n",
    "        for i in self.graph:\n",
    "            i+=1\n",
    "        return i\n",
    "    \n",
    "    def BFS(self, s): \n",
    "        list1=[]\n",
    "        queue=[]\n",
    "        \n",
    "        queue.append(s)\n",
    "        \n",
    "        while len(queue) != self.count():            \n",
    "            for i in self.graph[s]:\n",
    "                if i not in list1 and i not in queue:\n",
    "                    list1.append(i)\n",
    "\n",
    "            s=list1.pop(0)   \n",
    "            if s not in queue:\n",
    "                queue.append(s)    \n",
    "        return queue\n",
    "    \n",
    "        \n",
    "    def DFS(self, s):\n",
    "        list2=[]\n",
    "        stack=[]\n",
    "        \n",
    "        stack.append(s)\n",
    "        \n",
    "        while len(stack) != self.count() :\n",
    "            for i in self.graph[s]:\n",
    "                if i not in list2 and i not in stack:\n",
    "                    list2.append(i)\n",
    "          \n",
    "            s=list2.pop(-1)\n",
    "            if s not in stack:\n",
    "                stack.append(s)\n",
    "        return stack               \n",
    "                        \n",
    "\n",
    "              \n",
    "g=Graph()\n",
    "g.addEdge(0,1)\n",
    "g.addEdge(0,2)\n",
    "g.addEdge(1,2)\n",
    "g.addEdge(2,0)\n",
    "g.addEdge(2,3)\n",
    "g.addEdge(3,3)        \n",
    "        \n",
    "print(g.BFS(2))\n",
    "print(g.DFS(2))   "
   ]
  },
  {
   "cell_type": "markdown",
   "metadata": {},
   "source": [
    "### 參考資料\n",
    "1. https://zh.wikipedia.org/wiki/%E5%B9%BF%E5%BA%A6%E4%BC%98%E5%85%88%E6%90%9C%E7%B4%A2\n",
    "2. https://zh.wikipedia.org/wiki/%E6%B7%B1%E5%BA%A6%E4%BC%98%E5%85%88%E6%90%9C%E7%B4%A2\n",
    "3. https://zhuanlan.zhihu.com/p/40151973\n",
    "4. https://seanlhlee.gitbooks.io/acosa/gitBook/Data%20Structures/Graphs/depth-first_search.html\n",
    "5. https://seanlhlee.gitbooks.io/acosa/gitBook/Data%20Structures/Graphs/breadth-first_search.html"
   ]
  }
 ],
 "metadata": {
  "kernelspec": {
   "display_name": "Python 3",
   "language": "python",
   "name": "python3"
  },
  "language_info": {
   "codemirror_mode": {
    "name": "ipython",
    "version": 3
   },
   "file_extension": ".py",
   "mimetype": "text/x-python",
   "name": "python",
   "nbconvert_exporter": "python",
   "pygments_lexer": "ipython3",
   "version": "3.6.1"
  }
 },
 "nbformat": 4,
 "nbformat_minor": 2
}
