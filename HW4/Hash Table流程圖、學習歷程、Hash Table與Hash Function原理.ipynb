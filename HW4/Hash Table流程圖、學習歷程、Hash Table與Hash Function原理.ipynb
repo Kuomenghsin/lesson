{
 "cells": [
  {
   "cell_type": "markdown",
   "metadata": {},
   "source": [
    "### Hash Table "
   ]
  },
  {
   "cell_type": "markdown",
   "metadata": {},
   "source": [
    "雜湊表（Hash table，也叫哈希表），是根據 Key 而直接查詢在內存存儲位置的資料結構。也就是說，它通過計算一個關於鍵值的函數，將所需查詢的數據映射到表中一個位置來查詢記錄，這加快了查找速度。這個映射函數稱做雜湊函數，存放記錄的數組稱做雜湊表。\n",
    "![image](https://vhanda.in/blog/images/2012/07/19/normal-hash-table.png)\n",
    "\n",
    "##### 圖片來源：https://blog.techbridge.cc/2017/01/21/simple-hash-table-intro/"
   ]
  },
  {
   "cell_type": "markdown",
   "metadata": {},
   "source": [
    "但是因為鍵的全集的元素數目大於符號表的尺寸m，當有不同的鍵被對映到同一個hash table的位置中來，這種情況叫做衝突/碰撞（collision），我們可以使用以下方式解決："
   ]
  },
  {
   "cell_type": "markdown",
   "metadata": {},
   "source": [
    "#### 1. 分離鏈結：\n",
    "分離鏈結是在每一個 hash value 放置一個鏈結串列，當有 hash key 相同的值要放入時就新增進鏈結串列，是一個相對簡單的方式，但需要額外的鏈結串列空間。\n",
    "#### 2. 線性探查：\n",
    "是另外一種解決雜湊表，若是欲加入 Hash Table 位置已經被佔據則往下一個 index + 1 去填，若還是被佔據則考慮 index + 2，以此類推。\n",
    "#### 3. 更好的雜湊表（Hash Function）：\n",
    "若是能使用更好的 Hash Function 就能預先避免衝突（collision）的可能（擁有較低插入和檢索元素的時間、較低衝突的可能意味著更好的雜湊表）。"
   ]
  },
  {
   "cell_type": "markdown",
   "metadata": {},
   "source": [
    "### Hash Function"
   ]
  },
  {
   "cell_type": "markdown",
   "metadata": {},
   "source": [
    "Hash Function將key儲存到buckets。理想的Hash Function以類似隨機的方式將鍵映射到整數，從而即使輸入數據中存在規律性，buckets值也可以均勻分佈。\n",
    "\n",
    "此過程可以分為兩個步驟：\n",
    "1. 將鍵映射為整數。\n",
    "2. 將整數映射到buckets。\n"
   ]
  },
  {
   "cell_type": "markdown",
   "metadata": {},
   "source": [
    "以下有兩種Hash Function：\n",
    "#### 1. Division Method (m有限制，但是比較快)：\n",
    "要把大範圍的|U|對應到較小範圍的{0,1,...,m−1}，最直覺的做法就是利用Modulus(mod)取餘數。\n",
    "<br> 假設Table大小為m，定義Hash Function為：h(Key)=Keymodm\n",
    "- 優點：以Division Method實現Hash Function的優點就是非常快，只要做一次餘數(一次除法)運算即可。\n",
    "- 缺點：Table大小m必須慎選。\n",
    "\n",
    "#### 2. Multiplication Method：\n",
    "由於在實際面對資料時，時常無法預先得知「Key的範圍」以及「在該範圍內Key的分佈情形」，在這個前提下，不需要避開特定m的Multiplication Method可能會比較優秀。"
   ]
  },
  {
   "cell_type": "markdown",
   "metadata": {},
   "source": [
    "### Hash Table流程圖\n",
    "![image](https://raw.githubusercontent.com/tiffany1020/lesson/master/Week11/hash%20%E6%B5%81%E7%A8%8B%E5%9C%96.jpg)"
   ]
  },
  {
   "cell_type": "markdown",
   "metadata": {},
   "source": [
    "### 學習歷程"
   ]
  },
  {
   "cell_type": "code",
   "execution_count": 2,
   "metadata": {},
   "outputs": [
    {
     "name": "stdout",
     "output_type": "stream",
     "text": [
      "d41d8cd98f00b204e9800998ecf8427e\n"
     ]
    }
   ],
   "source": [
    "from Crypto.Hash import MD5\n",
    "h=MD5.new()\n",
    "print (h.hexdigest()) ##16進位"
   ]
  },
  {
   "cell_type": "code",
   "execution_count": 3,
   "metadata": {},
   "outputs": [
    {
     "name": "stdout",
     "output_type": "stream",
     "text": [
      "de56dbe37bac205bb04c62b67aded7d3\n",
      "4\n"
     ]
    }
   ],
   "source": [
    "h=MD5.new()\n",
    "h.update(\"I have a apple\".encode(\"utf-8\"))\n",
    "print (h.hexdigest()) ##16進位\n",
    "x=h.hexdigest()\n",
    "\n",
    "x=int(h.hexdigest(),16) ##16轉10進位\n",
    "print(x%5)"
   ]
  },
  {
   "cell_type": "code",
   "execution_count": null,
   "metadata": {
    "collapsed": true
   },
   "outputs": [],
   "source": [
    "class ListNode:\n",
    "    def __init__(self, val):\n",
    "        self.val = val\n",
    "        self.next = None\n",
    "\n",
    "class MyHashSet:\n",
    "    def __init__(self, capacity=5):\n",
    "        self.capacity = capacity\n",
    "        self.data = [None] * capacity\n",
    "\n",
    "    def add(self, key):\n",
    "\n",
    "    def remove(self, key):\n",
    "\n",
    "    def contains(self, key):\n"
   ]
  },
  {
   "cell_type": "markdown",
   "metadata": {},
   "source": [
    "新增字串，可以編碼，指定放在array第幾欄，然後接linked list"
   ]
  },
  {
   "cell_type": "markdown",
   "metadata": {},
   "source": [
    "#### 試試建立array並存入編碼"
   ]
  },
  {
   "cell_type": "code",
   "execution_count": 16,
   "metadata": {},
   "outputs": [
    {
     "data": {
      "text/plain": [
       "[None, 'hello', None, None, None]"
      ]
     },
     "execution_count": 16,
     "metadata": {},
     "output_type": "execute_result"
    }
   ],
   "source": [
    "arr=[None] * 5\n",
    "arr[1]='hello'\n",
    "arr"
   ]
  },
  {
   "cell_type": "code",
   "execution_count": 26,
   "metadata": {},
   "outputs": [
    {
     "name": "stdout",
     "output_type": "stream",
     "text": [
      "5d41402abc4b2a76b9719d911017c592\n",
      "4\n",
      "[None, None, None, None, 123957004363873451094272536567338222994]\n"
     ]
    }
   ],
   "source": [
    "h=MD5.new()\n",
    "h.update(\"hello\".encode(\"utf-8\"))\n",
    "print (h.hexdigest()) ##16進位\n",
    "x=h.hexdigest()\n",
    "x=int(h.hexdigest(),16) ##16轉10進位\n",
    "print(x%5)\n",
    "\n",
    "arr=[None] * 5\n",
    "arr[4]=x\n",
    "print(arr)"
   ]
  },
  {
   "cell_type": "markdown",
   "metadata": {},
   "source": [
    "#### 將轉換成MD5 寫成function"
   ]
  },
  {
   "cell_type": "code",
   "execution_count": 30,
   "metadata": {},
   "outputs": [
    {
     "name": "stdout",
     "output_type": "stream",
     "text": [
      "5d41402abc4b2a76b9719d911017c592\n",
      "4\n"
     ]
    }
   ],
   "source": [
    "def change(word):\n",
    "    h=MD5.new()\n",
    "    h.update(word.encode(\"utf-8\"))\n",
    "    print (h.hexdigest()) ##16進位\n",
    "    x=h.hexdigest()\n",
    "    x=int(h.hexdigest(),16) ##16轉10進位\n",
    "    print(x%5)\n",
    "\n",
    "change(\"hello\")"
   ]
  },
  {
   "cell_type": "markdown",
   "metadata": {},
   "source": [
    "### add function想法\n",
    "1. 將字串或數字轉換成MD5\n",
    "2. 判斷它%capacity後，要放入第幾個array\n",
    "3. 若為空值，直接存入，若不是空值，以linked list方式連接"
   ]
  },
  {
   "cell_type": "code",
   "execution_count": 31,
   "metadata": {
    "collapsed": true
   },
   "outputs": [],
   "source": [
    "from Crypto.Hash import MD5\n",
    "class ListNode:\n",
    "    def __init__(self, val):\n",
    "        self.val = val\n",
    "        self.next = None\n",
    "\n",
    "class MyHashSet:\n",
    "    def __init__(self, capacity=5):\n",
    "        self.capacity = capacity\n",
    "        self.data = [None] * capacity\n",
    "        \n",
    "    def change(self,word):\n",
    "        h=MD5.new()\n",
    "        h.update(word.encode(\"utf-8\"))\n",
    "        #print (h.hexdigest()) ##16進位\n",
    "        x=h.hexdigest()\n",
    "        x1=int(h.hexdigest(),16) ##16轉10進位\n",
    "        #print(x)\n",
    "        return (x,x1%self.capacity)\n",
    "\n",
    "\n",
    "    def add(self, key):\n",
    "        t,index=MyHashSet().change(key)\n",
    "        print(t,index)\n",
    "                         \n",
    "        new_node=ListNode(t)\n",
    "\n",
    "        if self.data[index]==None:      # 如果第一個為None，直接存入\n",
    "            self.data[index]=new_node\n",
    "            print(self.data)\n",
    "            return self.data\n",
    "\n",
    "        else:\n",
    "            current=self.data[index]     # current=第一個node\n",
    "            while current.next:\n",
    "                current=current.next\n",
    "            current.next = new_node\n",
    "            print(self.data)\n",
    "            return self.data             "
   ]
  },
  {
   "cell_type": "code",
   "execution_count": 32,
   "metadata": {},
   "outputs": [
    {
     "name": "stdout",
     "output_type": "stream",
     "text": [
      "202cb962ac59075b964b07152d234b70 3\n",
      "[None, None, None, <__main__.ListNode object at 0x000001C06A99FA58>, None]\n",
      "49f68a5c8493ec2c0bf489821c21fc3b 2\n",
      "[None, None, <__main__.ListNode object at 0x000001C06A99F710>, <__main__.ListNode object at 0x000001C06A99FA58>, None]\n",
      "250cf8b51c773f3f8dc8b4be867a9a02 4\n",
      "[None, None, <__main__.ListNode object at 0x000001C06A99F710>, <__main__.ListNode object at 0x000001C06A99FA58>, <__main__.ListNode object at 0x000001C06A99FF60>]\n",
      "6057f13c496ecf7fd777ceb9e79ae285 0\n",
      "[<__main__.ListNode object at 0x000001C06A9A09E8>, None, <__main__.ListNode object at 0x000001C06A99F710>, <__main__.ListNode object at 0x000001C06A99FA58>, <__main__.ListNode object at 0x000001C06A99FF60>]\n",
      "68053af2923e00204c3ca7c6a3150cf7 3\n",
      "[<__main__.ListNode object at 0x000001C06A9A09E8>, None, <__main__.ListNode object at 0x000001C06A99F710>, <__main__.ListNode object at 0x000001C06A99FA58>, <__main__.ListNode object at 0x000001C06A99FF60>]\n"
     ]
    },
    {
     "data": {
      "text/plain": [
       "[<__main__.ListNode at 0x1c06a9a09e8>,\n",
       " None,\n",
       " <__main__.ListNode at 0x1c06a99f710>,\n",
       " <__main__.ListNode at 0x1c06a99fa58>,\n",
       " <__main__.ListNode at 0x1c06a99ff60>]"
      ]
     },
     "execution_count": 32,
     "metadata": {},
     "output_type": "execute_result"
    }
   ],
   "source": [
    "hashSet=MyHashSet()\n",
    "hashSet.add(\"123\")\n",
    "hashSet.add(\"hi\")\n",
    "hashSet.add(\"456\")\n",
    "hashSet.add(\"hey\")\n",
    "hashSet.add(\"789\")"
   ]
  },
  {
   "cell_type": "markdown",
   "metadata": {
    "collapsed": true
   },
   "source": [
    "### contains function想法\n",
    "1. 將字串或數字轉換成MD5\n",
    "2. 判斷它%capacity後，在哪一個index\n",
    "3. 以linked list一個一個尋訪"
   ]
  },
  {
   "cell_type": "code",
   "execution_count": 33,
   "metadata": {
    "collapsed": true
   },
   "outputs": [],
   "source": [
    "from Crypto.Hash import MD5\n",
    "class ListNode:\n",
    "    def __init__(self, val):\n",
    "        self.val = val\n",
    "        self.next = None\n",
    "\n",
    "class MyHashSet:\n",
    "    def __init__(self, capacity=5):\n",
    "        self.capacity = capacity\n",
    "        self.data = [None] * capacity\n",
    "        \n",
    "    def change(self,word):\n",
    "        h=MD5.new()\n",
    "        h.update(word.encode(\"utf-8\"))\n",
    "        #print (h.hexdigest()) ##16進位\n",
    "        x=h.hexdigest()\n",
    "        x1=int(h.hexdigest(),16) ##16轉10進位\n",
    "        #print(x)\n",
    "        return (x,x1%self.capacity)\n",
    "\n",
    "\n",
    "    def add(self, key):\n",
    "        t,index=MyHashSet().change(key)\n",
    "        print(t,index)\n",
    "                         \n",
    "        new_node=ListNode(t)\n",
    "\n",
    "        if self.data[index]==None:      # 如果第一個為None，直接存入\n",
    "            self.data[index]=new_node\n",
    "            print(self.data)\n",
    "            return self.data\n",
    "\n",
    "        else:\n",
    "            current=self.data[index]     # current=第一個node\n",
    "            while current.next:\n",
    "                current=current.next\n",
    "            current.next = new_node\n",
    "            print(self.data)\n",
    "            return self.data    \n",
    "        \n",
    "        \n",
    "    \n",
    "    def contains(self, key):\n",
    "        t,index=MyHashSet().change(key)\n",
    "        print(t,index)\n",
    "        \n",
    "        current=self.data[index]\n",
    "        \n",
    "        if current==None:\n",
    "            return False\n",
    "        \n",
    "        else:                       \n",
    "            while current.next and t != current.val:\n",
    "                current=current.next\n",
    "            if t !=  current.val:\n",
    "                return False\n",
    "            else:\n",
    "                return True\n"
   ]
  },
  {
   "cell_type": "code",
   "execution_count": 35,
   "metadata": {},
   "outputs": [
    {
     "name": "stdout",
     "output_type": "stream",
     "text": [
      "202cb962ac59075b964b07152d234b70 3\n",
      "[None, None, None, <__main__.ListNode object at 0x000001C06A9BD9E8>, None]\n",
      "49f68a5c8493ec2c0bf489821c21fc3b 2\n",
      "[None, None, <__main__.ListNode object at 0x000001C06A9BDBE0>, <__main__.ListNode object at 0x000001C06A9BD9E8>, None]\n",
      "250cf8b51c773f3f8dc8b4be867a9a02 4\n",
      "[None, None, <__main__.ListNode object at 0x000001C06A9BDBE0>, <__main__.ListNode object at 0x000001C06A9BD9E8>, <__main__.ListNode object at 0x000001C06A9BDC88>]\n",
      "6057f13c496ecf7fd777ceb9e79ae285 0\n",
      "[<__main__.ListNode object at 0x000001C06A9BDD30>, None, <__main__.ListNode object at 0x000001C06A9BDBE0>, <__main__.ListNode object at 0x000001C06A9BD9E8>, <__main__.ListNode object at 0x000001C06A9BDC88>]\n",
      "68053af2923e00204c3ca7c6a3150cf7 3\n",
      "[<__main__.ListNode object at 0x000001C06A9BDD30>, None, <__main__.ListNode object at 0x000001C06A9BDBE0>, <__main__.ListNode object at 0x000001C06A9BD9E8>, <__main__.ListNode object at 0x000001C06A9BDC88>]\n",
      "68053af2923e00204c3ca7c6a3150cf7 3\n"
     ]
    },
    {
     "data": {
      "text/plain": [
       "True"
      ]
     },
     "execution_count": 35,
     "metadata": {},
     "output_type": "execute_result"
    }
   ],
   "source": [
    "hashSet=MyHashSet()\n",
    "hashSet.add(\"123\")\n",
    "hashSet.add(\"hi\")\n",
    "hashSet.add(\"456\")\n",
    "hashSet.add(\"hey\")\n",
    "hashSet.add(\"789\")\n",
    "hashSet.contains(\"789\")"
   ]
  },
  {
   "cell_type": "markdown",
   "metadata": {
    "collapsed": true
   },
   "source": [
    "### remove function想法\n",
    "1. 將字串或數字轉換成MD5\n",
    "2. 判斷它%capacity後，在哪一個index\n",
    "3. 以linked list一個一個尋訪\n",
    "4. 如果有找到直接刪除，如果沒有找到回傳alse"
   ]
  },
  {
   "cell_type": "code",
   "execution_count": 36,
   "metadata": {
    "collapsed": true
   },
   "outputs": [],
   "source": [
    "from Crypto.Hash import MD5\n",
    "class ListNode:\n",
    "    def __init__(self, val):\n",
    "        self.val = val\n",
    "        self.next = None\n",
    "\n",
    "class MyHashSet:\n",
    "    def __init__(self, capacity=5):\n",
    "        self.capacity = capacity\n",
    "        self.data = [None] * capacity\n",
    "        \n",
    "    def change(self,word):\n",
    "        h=MD5.new()\n",
    "        h.update(word.encode(\"utf-8\"))\n",
    "        #print (h.hexdigest()) ##16進位\n",
    "        x=h.hexdigest()\n",
    "        x1=int(h.hexdigest(),16) ##16轉10進位\n",
    "        #print(x)\n",
    "        return (x,x1%self.capacity)\n",
    "\n",
    "\n",
    "    def add(self, key):\n",
    "        t,index=MyHashSet().change(key)\n",
    "        print(t,index)\n",
    "                         \n",
    "        new_node=ListNode(t)\n",
    "\n",
    "        if self.data[index]==None:      # 如果第一個為None，直接存入\n",
    "            self.data[index]=new_node\n",
    "            print(self.data)\n",
    "            return self.data\n",
    "\n",
    "        else:\n",
    "            current=self.data[index]     # current=第一個node\n",
    "            while current.next:\n",
    "                current=current.next\n",
    "            current.next = new_node\n",
    "            print(self.data)\n",
    "            return self.data    \n",
    "        \n",
    "        \n",
    "    \n",
    "    def contains(self, key):\n",
    "        t,index=MyHashSet().change(key)\n",
    "        #print(t,index)     \n",
    "        \n",
    "        current=self.data[index]\n",
    "        \n",
    "        if current==None:\n",
    "            return False\n",
    "        \n",
    "        else:   \n",
    "\n",
    "            while current.next and t != current.val:\n",
    "                current=current.next\n",
    "            if t != current.val:\n",
    "                return False\n",
    "            else:\n",
    "                return True\n",
    "            \n",
    "            \n",
    "    def remove(self, key):\n",
    "        t,index=MyHashSet().change(key)\n",
    "        print(t,index)\n",
    "        \n",
    "        current=self.data[index]\n",
    "        \n",
    "        if current==None:\n",
    "            return False\n",
    "        \n",
    "        else:                       \n",
    "            while current.next and t != current.val:\n",
    "                current=current.next\n",
    "            if t !=  current.val:\n",
    "                return False\n",
    "            else:\n",
    "                return self.remove2(t,index)\n",
    "                \n",
    "    def remove2(self,t,index):  \n",
    "        \n",
    "        current=self.data[index]\n",
    "        \n",
    "        if t==current.val:\n",
    "            self.data[index]=current.next\n",
    "            return\n",
    "        \n",
    "        else:\n",
    "            while current.next and t != current.val:\n",
    "                current=current.next\n",
    "                \n",
    "            if current.next and current.next.next and t == current.val:\n",
    "                current.next=current.next.next\n",
    "                return \n",
    "   \n",
    "        \n",
    "        #print(self.data)\n",
    "                \n",
    "            "
   ]
  },
  {
   "cell_type": "code",
   "execution_count": 37,
   "metadata": {},
   "outputs": [
    {
     "name": "stdout",
     "output_type": "stream",
     "text": [
      "202cb962ac59075b964b07152d234b70 3\n",
      "[None, None, None, <__main__.ListNode object at 0x000001C06A9B5240>, None]\n",
      "49f68a5c8493ec2c0bf489821c21fc3b 2\n",
      "[None, None, <__main__.ListNode object at 0x000001C06A9B5390>, <__main__.ListNode object at 0x000001C06A9B5240>, None]\n",
      "250cf8b51c773f3f8dc8b4be867a9a02 4\n",
      "[None, None, <__main__.ListNode object at 0x000001C06A9B5390>, <__main__.ListNode object at 0x000001C06A9B5240>, <__main__.ListNode object at 0x000001C06A9B5358>]\n",
      "6057f13c496ecf7fd777ceb9e79ae285 0\n",
      "[<__main__.ListNode object at 0x000001C06A9B5DA0>, None, <__main__.ListNode object at 0x000001C06A9B5390>, <__main__.ListNode object at 0x000001C06A9B5240>, <__main__.ListNode object at 0x000001C06A9B5358>]\n",
      "68053af2923e00204c3ca7c6a3150cf7 3\n",
      "[<__main__.ListNode object at 0x000001C06A9B5DA0>, None, <__main__.ListNode object at 0x000001C06A9B5390>, <__main__.ListNode object at 0x000001C06A9B5240>, <__main__.ListNode object at 0x000001C06A9B5358>]\n",
      "c9fab33e9458412c527c3fe8a13ee37d 3\n",
      "[<__main__.ListNode object at 0x000001C06A9B5DA0>, None, <__main__.ListNode object at 0x000001C06A9B5390>, <__main__.ListNode object at 0x000001C06A9B5240>, <__main__.ListNode object at 0x000001C06A9B5358>]\n",
      "---\n",
      "68053af2923e00204c3ca7c6a3150cf7 3\n"
     ]
    },
    {
     "data": {
      "text/plain": [
       "True"
      ]
     },
     "execution_count": 37,
     "metadata": {},
     "output_type": "execute_result"
    }
   ],
   "source": [
    "hashSet=MyHashSet()\n",
    "hashSet.add(\"123\")\n",
    "hashSet.add(\"hi\")\n",
    "hashSet.add(\"456\")\n",
    "hashSet.add(\"hey\")\n",
    "hashSet.add(\"789\")\n",
    "hashSet.add(\"sleep\")\n",
    "\n",
    "print('---')\n",
    "#hashSet.contains(\"4\")\n",
    "#print('---')\n",
    "hashSet.remove(\"789\")\n",
    "hashSet.contains(\"789\")"
   ]
  },
  {
   "cell_type": "markdown",
   "metadata": {},
   "source": [
    "發現刪除每個index的第一個值都可以，但第二個值開始就無法。\n",
    "<br> 發現在 __while current.next and t != current.val:__ 有誤\n",
    "\n"
   ]
  },
  {
   "cell_type": "code",
   "execution_count": 38,
   "metadata": {
    "collapsed": true
   },
   "outputs": [],
   "source": [
    "from Crypto.Hash import MD5\n",
    "class ListNode:\n",
    "    def __init__(self, val):\n",
    "        self.val = val\n",
    "        self.next = None\n",
    "\n",
    "class MyHashSet:\n",
    "    def __init__(self, capacity=5):\n",
    "        self.capacity = capacity\n",
    "        self.data = [None] * capacity\n",
    "        \n",
    "    def change(self,word):\n",
    "        h=MD5.new()\n",
    "        h.update(word.encode(\"utf-8\"))\n",
    "        #print (h.hexdigest()) ##16進位\n",
    "        x=h.hexdigest()\n",
    "        x1=int(h.hexdigest(),16) ##16轉10進位\n",
    "        #print(x)\n",
    "        return (x,x1%self.capacity)\n",
    "\n",
    "\n",
    "    def add(self, key):\n",
    "        t,index=MyHashSet().change(key)\n",
    "        print(t,index)\n",
    "                         \n",
    "        new_node=ListNode(t)\n",
    "\n",
    "        if self.data[index]==None:      # 如果第一個為None，直接存入\n",
    "            self.data[index]=new_node\n",
    "            print(self.data)\n",
    "            return self.data\n",
    "\n",
    "        else:\n",
    "            current=self.data[index]     # current=第一個node\n",
    "            while current.next:\n",
    "                current=current.next\n",
    "            current.next = new_node\n",
    "            print(self.data)\n",
    "            return self.data    \n",
    "        \n",
    "        \n",
    "    \n",
    "    def contains(self, key):\n",
    "        t,index=MyHashSet().change(key)\n",
    "        #print(t,index)     \n",
    "        \n",
    "        current=self.data[index]\n",
    "        \n",
    "        if current==None:\n",
    "            return False\n",
    "        \n",
    "        else:   \n",
    "\n",
    "            while current.next and t != current.val:\n",
    "                current=current.next\n",
    "            if t != current.val:\n",
    "                return False\n",
    "            else:\n",
    "                return True\n",
    "            \n",
    "            \n",
    "    def remove(self, key):\n",
    "        t,index=MyHashSet().change(key)\n",
    "        print(t,index)\n",
    "        \n",
    "        current=self.data[index]\n",
    "        \n",
    "        if current==None:\n",
    "            return False\n",
    "        \n",
    "        else:                       \n",
    "            while current.next and t != current.val:\n",
    "                current=current.next\n",
    "            if t !=  current.val:\n",
    "                return False\n",
    "            else:\n",
    "                return self.remove2(t,index)\n",
    "                \n",
    "    def remove2(self,t,index):  \n",
    "        \n",
    "        current=self.data[index]\n",
    "        \n",
    "        if t==current.val:\n",
    "            self.data[index]=current.next\n",
    "            return\n",
    "        \n",
    "        else:\n",
    "            while current.next and t != current.next.val:\n",
    "                current=current.next\n",
    "                \n",
    "            if current.next and current.next.next and t == current.next.val:\n",
    "                current.next=current.next.next\n",
    "                return \n",
    "\n",
    "         \n",
    "            "
   ]
  },
  {
   "cell_type": "code",
   "execution_count": 39,
   "metadata": {},
   "outputs": [
    {
     "name": "stdout",
     "output_type": "stream",
     "text": [
      "202cb962ac59075b964b07152d234b70 3\n",
      "[None, None, None, <__main__.ListNode object at 0x000001C06A9A0F98>, None]\n",
      "49f68a5c8493ec2c0bf489821c21fc3b 2\n",
      "[None, None, <__main__.ListNode object at 0x000001C06A9B55F8>, <__main__.ListNode object at 0x000001C06A9A0F98>, None]\n",
      "250cf8b51c773f3f8dc8b4be867a9a02 4\n",
      "[None, None, <__main__.ListNode object at 0x000001C06A9B55F8>, <__main__.ListNode object at 0x000001C06A9A0F98>, <__main__.ListNode object at 0x000001C06A9B59B0>]\n",
      "6057f13c496ecf7fd777ceb9e79ae285 0\n",
      "[<__main__.ListNode object at 0x000001C06A9BD978>, None, <__main__.ListNode object at 0x000001C06A9B55F8>, <__main__.ListNode object at 0x000001C06A9A0F98>, <__main__.ListNode object at 0x000001C06A9B59B0>]\n",
      "68053af2923e00204c3ca7c6a3150cf7 3\n",
      "[<__main__.ListNode object at 0x000001C06A9BD978>, None, <__main__.ListNode object at 0x000001C06A9B55F8>, <__main__.ListNode object at 0x000001C06A9A0F98>, <__main__.ListNode object at 0x000001C06A9B59B0>]\n",
      "c9fab33e9458412c527c3fe8a13ee37d 3\n",
      "[<__main__.ListNode object at 0x000001C06A9BD978>, None, <__main__.ListNode object at 0x000001C06A9B55F8>, <__main__.ListNode object at 0x000001C06A9A0F98>, <__main__.ListNode object at 0x000001C06A9B59B0>]\n",
      "---\n",
      "c9fab33e9458412c527c3fe8a13ee37d 3\n"
     ]
    },
    {
     "data": {
      "text/plain": [
       "True"
      ]
     },
     "execution_count": 39,
     "metadata": {},
     "output_type": "execute_result"
    }
   ],
   "source": [
    "hashSet=MyHashSet()\n",
    "hashSet.add(\"123\")\n",
    "hashSet.add(\"hi\")\n",
    "hashSet.add(\"456\")\n",
    "hashSet.add(\"hey\")\n",
    "hashSet.add(\"789\")\n",
    "hashSet.add(\"sleep\")\n",
    "\n",
    "print('---')\n",
    "#hashSet.contains(\"4\")\n",
    "#print('---')\n",
    "hashSet.remove(\"sleep\")\n",
    "hashSet.contains(\"sleep\")"
   ]
  },
  {
   "cell_type": "markdown",
   "metadata": {},
   "source": [
    "發現當刪除值位在最後面，無法順利刪除\n",
    "<br> 加入 __elif current.next and current.next.next==None and t == current.next.val:__ 條件\n",
    "<br> 並加入while迴圈，使得可以刪除重複的值"
   ]
  },
  {
   "cell_type": "code",
   "execution_count": 44,
   "metadata": {
    "collapsed": true
   },
   "outputs": [],
   "source": [
    "from Crypto.Hash import MD5\n",
    "class ListNode:\n",
    "    def __init__(self, val):\n",
    "        self.val = val\n",
    "        self.next = None\n",
    "\n",
    "class MyHashSet:\n",
    "    def __init__(self, capacity=5):\n",
    "        self.capacity = capacity\n",
    "        self.data = [None] * capacity\n",
    "        \n",
    "    def change(self,word):\n",
    "        h=MD5.new()\n",
    "        h.update(word.encode(\"utf-8\"))\n",
    "        #print (h.hexdigest()) ##16進位\n",
    "        x=h.hexdigest()\n",
    "        x1=int(h.hexdigest(),16) ##16轉10進位\n",
    "        #print(x)\n",
    "        return (x,x1%self.capacity)\n",
    "\n",
    "\n",
    "    def add(self, key):\n",
    "        t,index=MyHashSet().change(key)\n",
    "        #print(t,index)\n",
    "                         \n",
    "        new_node=ListNode(t)\n",
    "\n",
    "        if self.data[index]==None:      # 如果第一個為None，直接存入\n",
    "            self.data[index]=new_node\n",
    "            #print(self.data)\n",
    "            #return self.data\n",
    "\n",
    "        else:\n",
    "            current=self.data[index]     # current=第一個node\n",
    "            while current.next:\n",
    "                current=current.next\n",
    "            current.next = new_node\n",
    "            #print(self.data)\n",
    "            #return self.data    \n",
    "        \n",
    "        \n",
    "    \n",
    "    def contains(self, key):\n",
    "        t,index=MyHashSet().change(key)\n",
    "        #print(t,index)     \n",
    "        \n",
    "        current=self.data[index]\n",
    "        \n",
    "        if current==None:\n",
    "            return False\n",
    "        \n",
    "        else:   \n",
    "\n",
    "            while current.next and t != current.val:\n",
    "                current=current.next\n",
    "            if t != current.val:\n",
    "                return False\n",
    "            else:\n",
    "                return True\n",
    "            \n",
    "            \n",
    "    def remove(self, key):\n",
    "        t,index=MyHashSet().change(key)\n",
    "        #print(t,index)\n",
    "        \n",
    "        while self.contains(key)==True:\n",
    "            self.remove2(t,index)\n",
    "            \n",
    "                \n",
    "    def remove2(self,t,index):  \n",
    "        \n",
    "        current=self.data[index]\n",
    "        \n",
    "        if t==current.val:\n",
    "            self.data[index]=current.next\n",
    "            return\n",
    "        \n",
    "        else:\n",
    "            while current.next and t != current.next.val:\n",
    "                current=current.next\n",
    "                \n",
    "            if current.next and current.next.next and t == current.next.val:\n",
    "                current.next=current.next.next\n",
    "                return \n",
    "            elif current.next and current.next.next==None and t == current.next.val:\n",
    "                current.next=None\n",
    "                return\n",
    "   \n",
    "\n",
    "         \n",
    "            "
   ]
  },
  {
   "cell_type": "code",
   "execution_count": 45,
   "metadata": {},
   "outputs": [
    {
     "name": "stdout",
     "output_type": "stream",
     "text": [
      "---\n"
     ]
    },
    {
     "data": {
      "text/plain": [
       "False"
      ]
     },
     "execution_count": 45,
     "metadata": {},
     "output_type": "execute_result"
    }
   ],
   "source": [
    "hashSet=MyHashSet()\n",
    "hashSet.add(\"123\")\n",
    "hashSet.add(\"hi\")\n",
    "hashSet.add(\"456\")\n",
    "hashSet.add(\"hey\")\n",
    "hashSet.add(\"789\")\n",
    "hashSet.add(\"sleep\")\n",
    "hashSet.add(\"sleep\")\n",
    "hashSet.add(\"sleep\")\n",
    "hashSet.add(\"789\")\n",
    "print('---')\n",
    "#hashSet.contains(\"4\")\n",
    "#print('---')\n",
    "hashSet.remove(\"123\")\n",
    "hashSet.contains(\"123\")\n"
   ]
  },
  {
   "cell_type": "code",
   "execution_count": 46,
   "metadata": {},
   "outputs": [
    {
     "name": "stdout",
     "output_type": "stream",
     "text": [
      "68053af2923e00204c3ca7c6a3150cf7 c9fab33e9458412c527c3fe8a13ee37d c9fab33e9458412c527c3fe8a13ee37d\n"
     ]
    }
   ],
   "source": [
    "print(hashSet.data[3].val,hashSet.data[3].next.val,hashSet.data[3].next.next.val)"
   ]
  },
  {
   "cell_type": "code",
   "execution_count": 47,
   "metadata": {},
   "outputs": [
    {
     "name": "stdout",
     "output_type": "stream",
     "text": [
      "True\n",
      "True\n",
      "False\n",
      "True\n",
      "False\n"
     ]
    }
   ],
   "source": [
    "hashSet=MyHashSet()\n",
    "hashSet.add(\"dog\")\n",
    "hashSet.add(\"pig\")\n",
    "rel=hashSet.contains(\"pig\")\n",
    "print(rel)\n",
    "rel=hashSet.contains(\"dog\")\n",
    "print(rel)\n",
    "rel=hashSet.contains(\"cat\")\n",
    "print(rel)\n",
    "hashSet.add(\"bird\")\n",
    "rel=hashSet.contains(\"bird\")\n",
    "print(rel)\n",
    "hashSet.remove(\"pig\")\n",
    "rel=hashSet.contains(\"pig\")\n",
    "print(rel)"
   ]
  },
  {
   "cell_type": "markdown",
   "metadata": {
    "collapsed": true
   },
   "source": [
    "### 參考資料：\n",
    "1. http://alrightchiu.github.io/SecondRound/hash-tableintrojian-jie.html\n",
    "2. https://zh.wikipedia.org/wiki/%E5%93%88%E5%B8%8C%E8%A1%A8\n",
    "3. https://www.cs.hmc.edu/~geoff/classes/hmc.cs070.200101/homework10/hashfuncs.html\n",
    "4. https://blog.kdchang.cc/2016/09/23/javascript-data-structure-algorithm-dictionary-hash-table/"
   ]
  }
 ],
 "metadata": {
  "kernelspec": {
   "display_name": "Python 3",
   "language": "python",
   "name": "python3"
  },
  "language_info": {
   "codemirror_mode": {
    "name": "ipython",
    "version": 3
   },
   "file_extension": ".py",
   "mimetype": "text/x-python",
   "name": "python",
   "nbconvert_exporter": "python",
   "pygments_lexer": "ipython3",
   "version": "3.6.1"
  }
 },
 "nbformat": 4,
 "nbformat_minor": 2
}
