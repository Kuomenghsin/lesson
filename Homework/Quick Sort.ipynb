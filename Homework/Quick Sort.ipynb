def  quicksort(list,begin,last):  
    if begin < last:                              # 如果開始的位置大於結束，則停止
        pivot = partition(list,begin,last)        # 進行第一次劃分 分成左右兩個序列
        quicksortHelper(list,begin,pivot-1)       # 繼續將左邊序列進行排序 
        quicksortHelper(list,pivot+1,last)        # 繼續將右邊序列進行排序

    
