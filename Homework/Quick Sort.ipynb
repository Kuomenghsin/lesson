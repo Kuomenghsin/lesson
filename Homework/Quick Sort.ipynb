{
 "cells": [
  {
   "cell_type": "code",
   "execution_count": 27,
   "metadata": {
    "collapsed": true
   },
   "outputs": [],
   "source": [
    "def quicksort(list):\n",
    "    quicksortHelper(list,0,len(list)-1)     # 0 和 len(list)-1 為傳遞list的index值\n"
   ]
  },
  {
   "cell_type": "code",
   "execution_count": 28,
   "metadata": {
    "collapsed": true
   },
   "outputs": [],
   "source": [
    "def  quicksortHelper(list,begin,last):  \n",
    "    if begin < last:                                    # 如果開始的位置大於結束，則停止\n",
    "        pivot = partition(list,begin,last)              # 進行第一次劃分 分成左右兩個序列\n",
    "        quicksortHelper(list,begin,pivot-1)             # 繼續將左邊序列進行排序 \n",
    "        quicksortHelper(list,pivot+1,last)              # 繼續將右邊序列進行排序\n",
    "\n",
    "    "
   ]
  },
  {
   "cell_type": "code",
   "execution_count": 29,
   "metadata": {},
   "outputs": [],
   "source": [
    "## 從L開始一個一個值向右檢視、從R開始一個一個值向左檢視\n",
    "\n",
    "def partition(list,begin,last):\n",
    "    pivot=list[begin]                                                  # 設定第一個值為基準點\n",
    "    L=begin+1                                                          # 因此從第二個值開始進行比較\n",
    "    R=last\n",
    "    while L<=R:                                                        # 當L超過R時則停止\n",
    "        while L<=R and list[L] <= pivot:\n",
    "            print('L:',L,'R:',R,'list[L]:',list[L],'list[R]:',list[R]) # 檢視當前各值\n",
    "            L+=1                                                       # 當值大於基準點，則將L(相當於index值)+1，使他往右檢視下一個\n",
    "                                                                       # 若while條件沒有加上 L<=R 可能會使index值超出範圍\n",
    "            print('----------')\n",
    "        while L<=R and list[R] >= pivot:\n",
    "            print('L:',L,'R:',R,'list[L]:',list[L],'list[R]:',list[R]) # 檢視當前各值\n",
    "            R-=1                                                       # 當值大於基準點，則將R(相當於index值)-1，使他往左檢視下一個\n",
    "                                                                       # 若while條件沒有加上 L<=R 可能會使index值超出範圍\n",
    "            print('----------')\n",
    "        if L>R:                                                        # 當L超過R時則停止\n",
    "            break\n",
    "                \n",
    "        else: \n",
    "            list[L],list[R]=list[R],list[L]                            # 如果不能再向前移動，則將兩者的值交換，再進行while循環\n",
    "            print('L:',L,'R:',R,'list[L]:',list[L],'list[R]:',list[R]) # 檢視當前各值\n",
    "            \n",
    "    list[begin],list[R]=list[R],list[begin]                            # 將pivot值與停止時的R的數值做交換，使pivot\n",
    "    return R                                                           # 回傳R值"
   ]
  },
  {
   "cell_type": "code",
   "execution_count": 30,
   "metadata": {},
   "outputs": [
    {
     "name": "stdout",
     "output_type": "stream",
     "text": [
      "L: 1 R: 8 list[L]: 26 list[R]: 20\n",
      "----------\n",
      "L: 2 R: 8 list[L]: 20 list[R]: 93\n",
      "L: 2 R: 8 list[L]: 20 list[R]: 93\n",
      "----------\n",
      "L: 3 R: 8 list[L]: 17 list[R]: 93\n",
      "----------\n",
      "L: 4 R: 8 list[L]: 77 list[R]: 93\n",
      "----------\n",
      "L: 4 R: 7 list[L]: 50 list[R]: 77\n",
      "L: 4 R: 7 list[L]: 50 list[R]: 77\n",
      "----------\n",
      "L: 5 R: 7 list[L]: 31 list[R]: 77\n",
      "----------\n",
      "L: 6 R: 7 list[L]: 44 list[R]: 77\n",
      "----------\n",
      "L: 7 R: 7 list[L]: 77 list[R]: 77\n",
      "----------\n",
      "L: 1 R: 5 list[L]: 26 list[R]: 31\n",
      "----------\n",
      "L: 2 R: 5 list[L]: 20 list[R]: 31\n",
      "----------\n",
      "L: 3 R: 5 list[L]: 17 list[R]: 31\n",
      "----------\n",
      "L: 4 R: 5 list[L]: 31 list[R]: 50\n",
      "L: 4 R: 5 list[L]: 31 list[R]: 50\n",
      "----------\n",
      "L: 5 R: 5 list[L]: 50 list[R]: 50\n",
      "----------\n",
      "L: 1 R: 3 list[L]: 26 list[R]: 17\n",
      "----------\n",
      "L: 2 R: 3 list[L]: 20 list[R]: 17\n",
      "----------\n",
      "L: 3 R: 3 list[L]: 17 list[R]: 17\n",
      "----------\n",
      "L: 1 R: 2 list[L]: 26 list[R]: 20\n",
      "----------\n",
      "L: 1 R: 1 list[L]: 26 list[R]: 26\n",
      "----------\n",
      "L: 2 R: 2 list[L]: 20 list[R]: 20\n",
      "----------\n",
      "L: 8 R: 8 list[L]: 93 list[R]: 93\n",
      "----------\n",
      "[17, 20, 26, 31, 44, 50, 54, 77, 93]\n"
     ]
    }
   ],
   "source": [
    "## 測試數值\n",
    "\n",
    "list=[54,26,93,17,77,31,44,50,20]\n",
    "quicksort(list)              \n",
    "print(list)"
   ]
  },
  {
   "cell_type": "code",
   "execution_count": 31,
   "metadata": {},
   "outputs": [
    {
     "name": "stdout",
     "output_type": "stream",
     "text": [
      "L: 1 R: 9 list[L]: 4 list[R]: 27\n",
      "----------\n",
      "L: 2 R: 9 list[L]: 8 list[R]: 27\n",
      "----------\n",
      "L: 3 R: 9 list[L]: 15 list[R]: 27\n",
      "----------\n",
      "L: 4 R: 9 list[L]: 30 list[R]: 27\n",
      "----------\n",
      "L: 4 R: 8 list[L]: 15 list[R]: 30\n",
      "L: 4 R: 8 list[L]: 15 list[R]: 30\n",
      "----------\n",
      "L: 5 R: 8 list[L]: 6 list[R]: 30\n",
      "----------\n",
      "L: 6 R: 8 list[L]: 18 list[R]: 30\n",
      "----------\n",
      "L: 7 R: 8 list[L]: 1 list[R]: 30\n",
      "----------\n",
      "L: 8 R: 8 list[L]: 30 list[R]: 30\n",
      "----------\n",
      "L: 1 R: 6 list[L]: 4 list[R]: 18\n",
      "----------\n",
      "L: 1 R: 5 list[L]: 4 list[R]: 6\n",
      "----------\n",
      "L: 1 R: 4 list[L]: 4 list[R]: 15\n",
      "----------\n",
      "L: 1 R: 3 list[L]: 4 list[R]: 15\n",
      "----------\n",
      "L: 1 R: 2 list[L]: 4 list[R]: 8\n",
      "----------\n",
      "L: 1 R: 1 list[L]: 4 list[R]: 4\n",
      "----------\n",
      "L: 2 R: 6 list[L]: 8 list[R]: 18\n",
      "----------\n",
      "L: 2 R: 5 list[L]: 8 list[R]: 6\n",
      "----------\n",
      "L: 2 R: 4 list[L]: 8 list[R]: 15\n",
      "----------\n",
      "L: 2 R: 3 list[L]: 8 list[R]: 15\n",
      "----------\n",
      "L: 2 R: 2 list[L]: 8 list[R]: 8\n",
      "----------\n",
      "L: 3 R: 6 list[L]: 15 list[R]: 18\n",
      "----------\n",
      "L: 3 R: 5 list[L]: 6 list[R]: 15\n",
      "L: 3 R: 5 list[L]: 6 list[R]: 15\n",
      "----------\n",
      "L: 4 R: 5 list[L]: 15 list[R]: 15\n",
      "----------\n",
      "L: 4 R: 4 list[L]: 15 list[R]: 15\n",
      "----------\n",
      "L: 5 R: 6 list[L]: 15 list[R]: 18\n",
      "----------\n",
      "L: 6 R: 6 list[L]: 18 list[R]: 18\n",
      "----------\n",
      "L: 9 R: 9 list[L]: 27 list[R]: 27\n",
      "----------\n",
      "[1, 4, 6, 8, 15, 15, 18, 21, 27, 30]\n"
     ]
    }
   ],
   "source": [
    "## 測試數值\n",
    "\n",
    "list=[21,4,8,15,30,6,18,1,15,27]\n",
    "quicksort(list)     \n",
    "print(list)"
   ]
  }
 ],
 "metadata": {
  "kernelspec": {
   "display_name": "Python 3",
   "language": "python",
   "name": "python3"
  },
  "language_info": {
   "codemirror_mode": {
    "name": "ipython",
    "version": 3
   },
   "file_extension": ".py",
   "mimetype": "text/x-python",
   "name": "python",
   "nbconvert_exporter": "python",
   "pygments_lexer": "ipython3",
   "version": "3.6.1"
  }
 },
 "nbformat": 4,
 "nbformat_minor": 2
}
