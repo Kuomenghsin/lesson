{
 "cells": [
  {
   "cell_type": "code",
   "execution_count": 78,
   "metadata": {
    "collapsed": true
   },
   "outputs": [],
   "source": [
    "def  quicksort(list,begin,last):  \n",
    "    if begin < last:                              # 如果開始的位置大於結束，則停止\n",
    "        pivot = partition(list,begin,last)        # 進行第一次劃分 分成左右兩個序列\n",
    "        quicksortHelper(list,begin,pivot-1)       # 繼續將左邊序列進行排序 \n",
    "        quicksortHelper(list,pivot+1,last)        # 繼續將右邊序列進行排序\n",
    "\n",
    "    "
   ]
  },
  {
   "cell_type": "code",
   "execution_count": 83,
   "metadata": {
    "collapsed": true
   },
   "outputs": [],
   "source": [
    "## 從L開始一個一個值向右檢視、從R開始一個一個值向左檢視\n",
    "\n",
    "def partition(list,begin,last):\n",
    "    pivot=list[begin]                          # 設定第一個值為基準點\n",
    "    L=begin+1                                  # 因此從第二個值開始進行比較\n",
    "    R=last\n",
    "    while L<=R:                                # 當兩個值相遇或L超過R時則停止\n",
    "        while L<=R and list[L] <= pivot:\n",
    "            L+=1                               # 當值大於基準點，則將L(相當於index值)+1，使他往右檢視下一個\n",
    "                                               # 若while條件沒有加上 L<=R 可能會使index值超出範圍\n",
    "            \n",
    "        while L<=R and list[R] >= pivot:\n",
    "            R-=1                               # 當值大於基準點，則將R(相當於index值)-1，使他往左檢視下一個\n",
    "                                               # 若while條件沒有加上 L<=R 可能會使index值超出範圍\n",
    "        \n",
    "        if L>R:                                # 當L超過R時則停止\n",
    "            break\n",
    "                \n",
    "        else: \n",
    "            list[L],list[R]=list[R],list[L]    # 如果不能再向前移動，則將兩者交換，再進行while循環\n",
    "                                   \n",
    "            \n",
    "    list[begin],list[R]=list[R],list[begin]  \n",
    "    return R"
   ]
  },
  {
   "cell_type": "code",
   "execution_count": 84,
   "metadata": {},
   "outputs": [
    {
     "name": "stdout",
     "output_type": "stream",
     "text": [
      "[1, 4, 6, 8, 15, 15, 18, 21, 27, 30]\n"
     ]
    }
   ],
   "source": [
    "## 測試數值\n",
    "\n",
    "list=[21,4,8,15,30,6,18,1,15,27]\n",
    "\n",
    "quicksort(list,0,len(list)-1)     # 0 和 len(list)-1 為傳遞list的index值\n",
    "print(list)"
   ]
  },
  {
   "cell_type": "code",
   "execution_count": null,
   "metadata": {
    "collapsed": true
   },
   "outputs": [],
   "source": []
  }
 ],
 "metadata": {
  "kernelspec": {
   "display_name": "Python 3",
   "language": "python",
   "name": "python3"
  },
  "language_info": {
   "codemirror_mode": {
    "name": "ipython",
    "version": 3
   },
   "file_extension": ".py",
   "mimetype": "text/x-python",
   "name": "python",
   "nbconvert_exporter": "python",
   "pygments_lexer": "ipython3",
   "version": "3.6.1"
  }
 },
 "nbformat": 4,
 "nbformat_minor": 2
}

