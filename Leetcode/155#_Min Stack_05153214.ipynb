{
 "cells": [
  {
   "cell_type": "code",
   "execution_count": 3,
   "metadata": {
    "collapsed": true
   },
   "outputs": [],
   "source": [
    "class Node:\n",
    "    def __init__(self,val):\n",
    "        self.val=val\n",
    "        self.next=None\n",
    "        \n",
    "class MinStack:\n",
    "    def __init__(self):\n",
    "        self.head=None\n",
    "        self.size=0\n",
    "        \n",
    "    def push(self,val):\n",
    "        if self.head == None:\n",
    "            self.head=Node(val)\n",
    "        else:\n",
    "            cur=self.head\n",
    "            while cur.next:\n",
    "                cur=cur.next\n",
    "            cur.next=Node(val)\n",
    "        self.size+=1\n",
    "        \n",
    "    def pop(self):\n",
    "        if self.head == None:\n",
    "            return\n",
    "        else:\n",
    "            num=self.getSize()\n",
    "            cur=self.head            \n",
    "            for i in range(num-2):\n",
    "                cur=cur.next\n",
    "            cur.next=None\n",
    "        self.size-=1\n",
    "        \n",
    "        \n",
    "    def getSize(self):\n",
    "        cur=self.head\n",
    "        count=0\n",
    "        while cur:\n",
    "            count+=1\n",
    "            cur=cur.next\n",
    "        return count\n",
    "    \n",
    "    def top(self):\n",
    "        if self.head == None:\n",
    "            return\n",
    "        else:\n",
    "            num=self.getSize()\n",
    "            cur=self.head            \n",
    "            for i in range(num-2):\n",
    "                cur=cur.next\n",
    "            temp=cur.next.val\n",
    "            return temp\n",
    "        \n",
    "        \n",
    "    def getMin(self):   \n",
    "        \n",
    "        if self.head == None:\n",
    "            return\n",
    "        \n",
    "        else:            \n",
    "            index=self.size\n",
    "            cur=self.head\n",
    "            temp=cur.val\n",
    "            for i in range(index-1):\n",
    "                if temp < cur.next.val:\n",
    "                    temp=temp\n",
    "                else:\n",
    "                    temp=cur.next.val\n",
    "                cur=cur.next\n",
    "        return temp\n",
    "    \n",
    "        \n",
    "    def IsEmpty(self):\n",
    "        if self.head==None:\n",
    "            return True\n",
    "        else:\n",
    "            return False\n",
    "          \n",
    "            "
   ]
  },
  {
   "cell_type": "markdown",
   "metadata": {},
   "source": [
    "![image](https://raw.githubusercontent.com/tiffany1020/lesson/master/picture/155.%20Min%20Stack.jpg)"
   ]
  }
 ],
 "metadata": {
  "kernelspec": {
   "display_name": "Python 3",
   "language": "python",
   "name": "python3"
  },
  "language_info": {
   "codemirror_mode": {
    "name": "ipython",
    "version": 3
   },
   "file_extension": ".py",
   "mimetype": "text/x-python",
   "name": "python",
   "nbconvert_exporter": "python",
   "pygments_lexer": "ipython3",
   "version": "3.6.1"
  }
 },
 "nbformat": 4,
 "nbformat_minor": 2
}
