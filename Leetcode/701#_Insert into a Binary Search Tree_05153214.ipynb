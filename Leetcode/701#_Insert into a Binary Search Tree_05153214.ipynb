{
 "cells": [
  {
   "cell_type": "code",
   "execution_count": 2,
   "metadata": {},
   "outputs": [],
   "source": [
    "class TreeNode:\n",
    "    def __init__(self, x):\n",
    "        self.val = x\n",
    "        self.left = None\n",
    "        self.right = None\n",
    "\n",
    "class Solution:\n",
    "    def insertIntoBST(self, root: TreeNode, val: int) -> TreeNode:\n",
    "        new_node=TreeNode(val)\n",
    "        if root.val==None:      \n",
    "            root.val=val      \n",
    "\n",
    "        else:\n",
    "            if val <= root.val:          \n",
    "                if root.left == None:\n",
    "                    root.left = new_node\n",
    "                else:\n",
    "                    self.insertIntoBST(root.left,val)\n",
    "\n",
    "            elif val > root.val:        \n",
    "                if root.right == None:\n",
    "                    root.right = new_node\n",
    "                else:\n",
    "                    self.insertIntoBST(root.right,val)\n",
    "            return root\n",
    "        "
   ]
  },
  {
   "cell_type": "markdown",
   "metadata": {},
   "source": [
    "![image](https://raw.githubusercontent.com/tiffany1020/lesson/master/picture/701.%20Insert%20into%20a%20Binary%20Search%20Tree.jpg)"
   ]
  }
 ],
 "metadata": {
  "kernelspec": {
   "display_name": "Python 3",
   "language": "python",
   "name": "python3"
  },
  "language_info": {
   "codemirror_mode": {
    "name": "ipython",
    "version": 3
   },
   "file_extension": ".py",
   "mimetype": "text/x-python",
   "name": "python",
   "nbconvert_exporter": "python",
   "pygments_lexer": "ipython3",
   "version": "3.6.1"
  }
 },
 "nbformat": 4,
 "nbformat_minor": 2
}
