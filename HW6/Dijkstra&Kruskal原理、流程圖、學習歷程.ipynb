{
 "cells": [
  {
   "cell_type": "markdown",
   "metadata": {},
   "source": [
    "### Dijkstra 原理\n",
    "每次新擴展一個距離最短的點，更新與其相鄰的點的距離。當所有邊權都為正時，由於不會存在一個距離更短的沒擴展過的點，所以這個點的距離永遠不會再被改變，因而保證了演算法的正確性。\n",
    "\n",
    "#### 描述:\n",
    "這個演算法是通過為每個頂點 v 保留目前為止所找到的從s到v的最短路徑來工作的。初始時，原點 s 的路徑權重被賦為 0 （d[s] = 0）。若對於頂點 m 存在能直接到達的邊（s,m），則把d[m]設為w（s, m）,同時把所有其他（s不能直接到達的）頂點的路徑長度設為無窮大，即表示我們不知道任何通向這些頂點的路徑（對於所有頂點的集合 V 中的任意頂點 v， 若 v 不為 s 和上述 m 之一， d[v] = ∞）。當演算法結束時，d[v] 中儲存的便是從 s 到 v 的最短路徑，或者如果路徑不存在的話是無窮大。\n",
    "\n",
    "#### 做法:：\n",
    "1. 如果存在一條從 u 到 v 的邊，那麼從 s 到 v 的最短路徑可以通過將邊（u, v）添加到從 s 到 u 的路徑尾部來拓展一條從 s 到 v 的路徑。這條路徑的長度是 d[u] + w(u, v)。如果這個值比目前已知的 d[v] 的值要小，我們可以用新值來替代當前 d[v] 中的值。\n",
    "2. 拓展邊的操作一直執行到所有的 d[v] 都代表從 s 到 v 的最短路徑的長度值。此演算法的組織令 d[u] 達到其最終值時，每條邊（u, v）都只被拓展一次。\n",
    "\n",
    "#### 時間複雜度:\n",
    "Dijkstra演算法最簡單的實現方法是用一個鏈表或者數組來存儲所有頂點的集合Q,所以搜索Q中最小元素的運算(Extract-Min(Q))只需要線性搜索Q中的所有元素。這樣的話演算法的運行時間是O(n2)。"
   ]
  },
  {
   "cell_type": "markdown",
   "metadata": {},
   "source": [
    "### Kruskal 原理\n",
    "現在我們假設一個圖有m個節點，n條邊。首先，我們需要把m個節點看成m個獨立的生成樹，並且把n條邊按照從小到大的數據進行排列。在n條邊中，我們依次取出其中的每一條邊，如果發現邊的兩個節點分別位於兩棵樹上，那麼把兩棵樹合併成為一顆樹；如果樹的兩個節點位於同一棵樹上，那麼忽略這條邊，繼續運行。等到所有的邊都遍歷結束之後，如果所有的生成樹可以合併成一條生成樹，那麼它就是我們需要尋找的最小生成樹，反之則沒有最小生成樹。\n",
    "\n",
    "#### 做法:\n",
    "1. 將所有的邊，依照權重的大小排序。\n",
    "2. 依序加入權重最小的邊，\n",
    "3. 如果造成cycle時，則必須捨棄，直到增加了n-1條邊為止。(假設有 n 個節點)\n",
    "\n",
    "#### 時間複雜度:\n",
    "Kruskal算法的運行時間為O（ElogE）時間，或者等效地為O（ElogV）時間，其中E是圖形中邊的數量，V是頂點的數量，所有這些都具有簡單的數據結構。"
   ]
  },
  {
   "cell_type": "markdown",
   "metadata": {},
   "source": [
    "### Dijkstra 流程圖\n",
    "![image](https://raw.githubusercontent.com/tiffany1020/lesson/master/Week15/Dijkstra%20%E6%B5%81%E7%A8%8B%E5%9C%96.jpg)"
   ]
  },
  {
   "cell_type": "markdown",
   "metadata": {},
   "source": [
    "### Kruskal 流程圖\n",
    "![image](https://raw.githubusercontent.com/tiffany1020/lesson/master/Week14/Kruskal%20%E6%B5%81%E7%A8%8B%E5%9C%96.jpg)"
   ]
  },
  {
   "cell_type": "markdown",
   "metadata": {},
   "source": [
    "### Dijkstra 學習歷程"
   ]
  },
  {
   "cell_type": "markdown",
   "metadata": {},
   "source": [
    "#### 想法\n",
    "1. 將距離設為無限大\n",
    "2. 點到本身的距離為0\n",
    "3. 計算各點間的最小距離\n",
    "4. 將最小距離的點取出，形成一個群組\n",
    "5. 取出後，確認其點有沒有固定\n"
   ]
  },
  {
   "cell_type": "code",
   "execution_count": 3,
   "metadata": {},
   "outputs": [
    {
     "name": "stdout",
     "output_type": "stream",
     "text": [
      "[0, 4, 999999999999, 999999999999, 999999999999, 999999999999, 999999999999, 8, 999999999999]\n",
      "None\n"
     ]
    }
   ],
   "source": [
    "from collections import defaultdict \n",
    "\n",
    "class Graph(): \n",
    "\n",
    "    def __init__(self, vertices): \n",
    "        self.V = vertices \n",
    "        self.graph = [] \n",
    "        self.graph_matrix = [[0 for column in range(vertices)]  \n",
    "                    for row in range(vertices)] \n",
    "          \n",
    "    def Dijkstra(self, s): \n",
    "        \n",
    "        min=999999999999\n",
    "        \n",
    "        distance = [min] * self.V \n",
    "        distance[s] = 0\n",
    "        use = [0] * self.V \n",
    "        \n",
    "        \n",
    "        for c in range(self.V):\n",
    "                      \n",
    "            for i in range(self.V): \n",
    "                if distance[i] < min and use[i] == 0: \n",
    "                    min = distance[i] \n",
    "                    point = i \n",
    "            \n",
    "            use[point] = 1\n",
    "            \n",
    "  \n",
    "            for t in range(self.V): \n",
    "                if self.graph[point][t] > 0 and  use[t] == 0 and distance[t] > distance[point] + self.graph[point][t]: \n",
    "                    distance[t] = distance[point] + self.graph[point][t] \n",
    "  \n",
    "                        \n",
    "        print(distance)\n",
    "                    \n",
    "\n",
    "                \n",
    "        \n",
    "        \n",
    "g=Graph(9)\n",
    "g.graph=[[0,4,0,0,0,0,0,8,0],\n",
    "         [4,0,8,0,0,0,0,11,8],\n",
    "         [0,8,0,7,0,4,0,0,2],\n",
    "         [0,0,7,0,9,14,0,0,0],\n",
    "         [0,0,0,9,0,10,0,0,0],\n",
    "         [0,0,4,14,10,0,2,0,0],\n",
    "         [0,0,0,0,0,2,0,1,6],\n",
    "         [8,11,0,0,0,0,1,0,7],\n",
    "         [0,0,2,0,0,0,6,7,0]]\n",
    "print(g.Dijkstra(0))"
   ]
  },
  {
   "cell_type": "markdown",
   "metadata": {},
   "source": [
    "發現min在進入每次for迴圈時，應恢復"
   ]
  },
  {
   "cell_type": "code",
   "execution_count": 4,
   "metadata": {},
   "outputs": [
    {
     "name": "stdout",
     "output_type": "stream",
     "text": [
      "[0, 4, 12, 19, 21, 11, 9, 8, 14]\n",
      "None\n"
     ]
    }
   ],
   "source": [
    "from collections import defaultdict \n",
    "\n",
    "class Graph(): \n",
    "\n",
    "    def __init__(self, vertices): \n",
    "        self.V = vertices \n",
    "        self.graph = [] \n",
    "        self.graph_matrix = [[0 for column in range(vertices)]  \n",
    "                    for row in range(vertices)] \n",
    "          \n",
    "    def Dijkstra(self, s): \n",
    "        \n",
    "        min=99999999999\n",
    "        \n",
    "        distance = [min] * self.V \n",
    "        distance[s] = 0\n",
    "        use = [0] * self.V \n",
    "\n",
    "        for c in range(self.V): \n",
    "  \n",
    "            min = 999999999999\n",
    "  \n",
    "            for i in range(self.V): \n",
    "                if distance[i] < min and use[i] == 0: \n",
    "                    min = distance[i] \n",
    "                    point = i \n",
    "            \n",
    "            use[point] = 1\n",
    "            \n",
    "  \n",
    "            for t in range(self.V): \n",
    "                if self.graph[point][t] > 0 and  use[t] == 0 and distance[t] > distance[point] + self.graph[point][t]: \n",
    "                    distance[t] = distance[point] + self.graph[point][t] \n",
    "  \n",
    "\n",
    "        print(distance)\n",
    "                    \n",
    "\n",
    "                \n",
    "        \n",
    "        \n",
    "g=Graph(9)\n",
    "g.graph=[[0,4,0,0,0,0,0,8,0],\n",
    "         [4,0,8,0,0,0,0,11,0],\n",
    "         [0,8,0,7,0,4,0,0,2],\n",
    "         [0,0,7,0,9,14,0,0,0],\n",
    "         [0,0,0,9,0,10,0,0,0],\n",
    "         [0,0,4,14,10,0,2,0,0],\n",
    "         [0,0,0,0,0,2,0,1,6],\n",
    "         [8,11,0,0,0,0,1,0,7],\n",
    "         [0,0,2,0,0,0,6,7,0]]\n",
    "print(g.Dijkstra(0))"
   ]
  },
  {
   "cell_type": "code",
   "execution_count": 5,
   "metadata": {},
   "outputs": [
    {
     "name": "stdout",
     "output_type": "stream",
     "text": [
      "{'0': 0, '1': 4, '2': 12, '3': 19, '4': 21, '5': 11, '6': 9, '7': 8, '8': 14}\n",
      "{'0': 4, '1': 0, '2': 8, '3': 15, '4': 22, '5': 12, '6': 12, '7': 11, '8': 10}\n",
      "{'0': 12, '1': 8, '2': 0, '3': 7, '4': 14, '5': 4, '6': 6, '7': 7, '8': 2}\n",
      "{'0': 19, '1': 15, '2': 7, '3': 0, '4': 9, '5': 11, '6': 13, '7': 14, '8': 9}\n",
      "{'0': 21, '1': 22, '2': 14, '3': 9, '4': 0, '5': 10, '6': 12, '7': 13, '8': 16}\n",
      "{'0': 11, '1': 12, '2': 4, '3': 11, '4': 10, '5': 0, '6': 2, '7': 3, '8': 6}\n",
      "{'0': 9, '1': 12, '2': 6, '3': 13, '4': 12, '5': 2, '6': 0, '7': 1, '8': 6}\n",
      "{'0': 8, '1': 11, '2': 7, '3': 14, '4': 13, '5': 3, '6': 1, '7': 0, '8': 7}\n",
      "{'0': 14, '1': 10, '2': 2, '3': 9, '4': 16, '5': 6, '6': 6, '7': 7, '8': 0}\n"
     ]
    }
   ],
   "source": [
    "from collections import defaultdict \n",
    "\n",
    "class Graph(): \n",
    "\n",
    "    def __init__(self, vertices): \n",
    "        self.V = vertices \n",
    "        self.graph = [] \n",
    "        self.graph_matrix = [[0 for column in range(vertices)]  \n",
    "                    for row in range(vertices)] \n",
    "          \n",
    "    def Dijkstra(self, s): \n",
    "        \n",
    "        min=99999999999\n",
    "        \n",
    "        distance = [min] * self.V \n",
    "        distance[s] = 0\n",
    "        use = [0] * self.V \n",
    "\n",
    "        for c in range(self.V): \n",
    "  \n",
    "            min = 999999999999\n",
    "  \n",
    "            for i in range(self.V): \n",
    "                if distance[i] < min and use[i] == 0: \n",
    "                    min = distance[i] \n",
    "                    point = i \n",
    "            \n",
    "            use[point] = 1\n",
    "            \n",
    "  \n",
    "            for t in range(self.V): \n",
    "                if self.graph[point][t] > 0 and  use[t] == 0 and distance[t] > distance[point] + self.graph[point][t]: \n",
    "                    distance[t] = distance[point] + self.graph[point][t] \n",
    "  \n",
    "\n",
    "        #print(distance)\n",
    "        d1={}\n",
    "        for num in range(self.V):\n",
    "            key='%s'%(num)\n",
    "            d1[key]=distance[num]\n",
    "        return d1\n",
    "\n",
    "                \n",
    "        \n",
    "        \n",
    "g=Graph(9)\n",
    "g.graph=[[0,4,0,0,0,0,0,8,0],\n",
    "         [4,0,8,0,0,0,0,11,0],\n",
    "         [0,8,0,7,0,4,0,0,2],\n",
    "         [0,0,7,0,9,14,0,0,0],\n",
    "         [0,0,0,9,0,10,0,0,0],\n",
    "         [0,0,4,14,10,0,2,0,0],\n",
    "         [0,0,0,0,0,2,0,1,6],\n",
    "         [8,11,0,0,0,0,1,0,7],\n",
    "         [0,0,2,0,0,0,6,7,0]]\n",
    "\n",
    "print(g.Dijkstra(0))\n",
    "print(g.Dijkstra(1))\n",
    "print(g.Dijkstra(2))\n",
    "print(g.Dijkstra(3))\n",
    "print(g.Dijkstra(4))\n",
    "print(g.Dijkstra(5))\n",
    "print(g.Dijkstra(6))\n",
    "print(g.Dijkstra(7))\n",
    "print(g.Dijkstra(8))"
   ]
  },
  {
   "cell_type": "markdown",
   "metadata": {},
   "source": [
    "### Kruskal 學習歷程 "
   ]
  },
  {
   "cell_type": "markdown",
   "metadata": {},
   "source": [
    "#### 想法\n",
    "1. 建立所有的點\n",
    "2. 改成他的來源點\n",
    "3. 檢查是否迴圈 E=V-1"
   ]
  },
  {
   "cell_type": "code",
   "execution_count": 6,
   "metadata": {},
   "outputs": [
    {
     "name": "stdout",
     "output_type": "stream",
     "text": [
      "[[0, 1, 10]]\n",
      "[[0, 1, 10], [0, 2, 6]]\n",
      "[[0, 1, 10], [0, 2, 6], [0, 3, 5]]\n",
      "[[0, 1, 10], [0, 2, 6], [0, 3, 5], [1, 3, 15]]\n",
      "[[0, 1, 10], [0, 2, 6], [0, 3, 5], [1, 3, 15], [2, 3, 4]]\n"
     ]
    }
   ],
   "source": [
    "from collections import defaultdict \n",
    "\n",
    "\n",
    "class Graph(): \n",
    "\n",
    "    def __init__(self, vertices): \n",
    "        self.V = vertices \n",
    "        self.graph = [] \n",
    "        self.graph_matrix = [[0 for column in range(vertices)]  \n",
    "                    for row in range(vertices)] \n",
    "    def addEdge(self,u,v,w): \n",
    "        self.graph.append([u,v,w])\n",
    "        print(self.graph)\n",
    "       \n",
    "      \n",
    "    #def Kruskal(self):\n",
    "        \n",
    "\n",
    "\n",
    "g = Graph(4) \n",
    "\n",
    "g.addEdge(0, 1, 10) \n",
    "g.addEdge(0, 2, 6) \n",
    "g.addEdge(0, 3, 5) \n",
    "g.addEdge(1, 3, 15) \n",
    "g.addEdge(2, 3, 4) \n"
   ]
  },
  {
   "cell_type": "code",
   "execution_count": 12,
   "metadata": {},
   "outputs": [
    {
     "data": {
      "text/plain": [
       "{'0-1': 10, '0-3': 5, '2-3': 4}"
      ]
     },
     "execution_count": 12,
     "metadata": {},
     "output_type": "execute_result"
    }
   ],
   "source": [
    "from collections import defaultdict \n",
    "  \n",
    "class Graph: \n",
    "  \n",
    "    def __init__(self,vertices): \n",
    "        self.V= vertices \n",
    "        self.graph = []\n",
    "   \n",
    "  \n",
    "    def addEdge(self,u,v,w): \n",
    "        self.graph.append([u,v,w]) \n",
    "          \n",
    "    \n",
    "    def check(self, num, i): \n",
    "        if num[i] == i: \n",
    "            return i \n",
    "        return self.check(num, num[i]) \n",
    "         \n",
    "        \n",
    "    def Kruskal(self):   \n",
    "         \n",
    "        self.graph =  sorted(self.graph,key=lambda item: item[2]) \n",
    "  \n",
    "        num = [] \n",
    "        p = []   \n",
    "        \n",
    "        for node in range(self.V): \n",
    "            num.append(node) \n",
    "            p.append(-1) \n",
    "      \n",
    "        ans =[] \n",
    "        i = 0  \n",
    "        e = 0 \n",
    "        while e < self.V -1 :           \n",
    "            u,v,w =  self.graph[i] \n",
    "            i = i + 1\n",
    "            x = self.check(num, u) \n",
    "            y = self.check(num, v) \n",
    "             \n",
    "            if x != y: \n",
    "                e = e + 1     \n",
    "                ans.append([u,v,w]) \n",
    "                \n",
    "                xroot = self.check(num, x) \n",
    "                yroot = self.check(num, y) \n",
    "\n",
    "                if p[xroot] < p[yroot]: \n",
    "                    num[xroot] = yroot \n",
    "                elif p[xroot] > p[yroot]: \n",
    "                    num[yroot] = xroot \n",
    "\n",
    "                else : \n",
    "                    num[yroot] = xroot \n",
    "                    p[xroot] += 1\n",
    "      \n",
    "        #print(ans)\n",
    "        \n",
    "        \n",
    "        d2={}\n",
    "               \n",
    "        for u,v,weight in ans:  \n",
    "            key='%s-%s'%(u,v)\n",
    "            d2[key]=weight\n",
    "            \n",
    "        #print(d2)\n",
    "        return d2\n",
    "\n",
    "\n",
    "g = Graph(4) \n",
    "g.addEdge(0, 1, 10) \n",
    "g.addEdge(0, 2, 6) \n",
    "g.addEdge(0, 3, 5) \n",
    "g.addEdge(1, 3, 15) \n",
    "g.addEdge(2, 3, 4) \n",
    "  \n",
    "g.Kruskal() \n",
    "  \n",
    "\n"
   ]
  },
  {
   "cell_type": "markdown",
   "metadata": {},
   "source": [
    "### 資料來源\n",
    "1. https://zh.wikipedia.org/wiki/%E6%88%B4%E5%85%8B%E6%96%AF%E7%89%B9%E6%8B%89%E7%AE%97%E6%B3%95\n",
    "2. https://ithelp.ithome.com.tw/articles/10209593\n",
    "3. https://wiki.mbalib.com/zh-tw/Dijkstra%E7%AE%97%E6%B3%95\n",
    "4. http://nthucad.cs.nthu.edu.tw/~yyliu/personal/nou/04ds/kruskal.html\n",
    "5. https://en.wikipedia.org/wiki/Kruskal%27s_algorithm"
   ]
  }
 ],
 "metadata": {
  "kernelspec": {
   "display_name": "Python 3",
   "language": "python",
   "name": "python3"
  },
  "language_info": {
   "codemirror_mode": {
    "name": "ipython",
    "version": 3
   },
   "file_extension": ".py",
   "mimetype": "text/x-python",
   "name": "python",
   "nbconvert_exporter": "python",
   "pygments_lexer": "ipython3",
   "version": "3.6.1"
  }
 },
 "nbformat": 4,
 "nbformat_minor": 2
}
