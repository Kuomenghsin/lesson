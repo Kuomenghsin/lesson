{
 "cells": [
  {
   "cell_type": "code",
   "execution_count": 1,
   "metadata": {},
   "outputs": [
    {
     "name": "stdout",
     "output_type": "stream",
     "text": [
      "2\n",
      "22->33->None\n"
     ]
    },
    {
     "data": {
      "text/plain": [
       "False"
      ]
     },
     "execution_count": 1,
     "metadata": {},
     "output_type": "execute_result"
    }
   ],
   "source": [
    "class Node:\n",
    "    def __init__(self,val):\n",
    "        self.val=val\n",
    "        self.next=None\n",
    "class Queue:\n",
    "    def __init__(self):\n",
    "        self.head=None\n",
    "        self.size=0\n",
    "        \n",
    "    def push(self,val):\n",
    "        if self.head == None:\n",
    "            self.head=Node(val)\n",
    "        else:\n",
    "            cur=self.head\n",
    "            while cur.next:\n",
    "                cur=cur.next\n",
    "            cur.next=Node(val)\n",
    " \n",
    "            \n",
    "    def pop(self):\n",
    "        if self.head == None:\n",
    "            return \n",
    "        else:\n",
    "            temp=self.head.val\n",
    "            self.head=self.head.next\n",
    "            return temp\n",
    "        \n",
    "    def getFront(self):\n",
    "        return self.head.val\n",
    "    \n",
    "    def IsEmpty(self):\n",
    "        if self.head==None:\n",
    "            return True\n",
    "        else:\n",
    "            return False\n",
    "          \n",
    "    def getSize(self):\n",
    "        cur=self.head\n",
    "        count=0\n",
    "        while cur:\n",
    "            count+=1\n",
    "            cur=cur.next\n",
    "        return count\n",
    "        \n",
    "        \n",
    "    def printqueue(self):            \n",
    "        temp=self.head \n",
    "        while temp: \n",
    "            print(temp.val,end=\"->\") \n",
    "            temp=temp.next\n",
    "               \n",
    "        \n",
    "            \n",
    "queue=Queue()\n",
    "queue.push(11)\n",
    "queue.push(22)\n",
    "queue.push(33)\n",
    "queue.pop()\n",
    "print(queue.getSize())\n",
    "print(queue.printqueue())\n",
    "queue.IsEmpty()"
   ]
  }
 ],
 "metadata": {
  "kernelspec": {
   "display_name": "Python 3",
   "language": "python",
   "name": "python3"
  },
  "language_info": {
   "codemirror_mode": {
    "name": "ipython",
    "version": 3
   },
   "file_extension": ".py",
   "mimetype": "text/x-python",
   "name": "python",
   "nbconvert_exporter": "python",
   "pygments_lexer": "ipython3",
   "version": "3.6.1"
  }
 },
 "nbformat": 4,
 "nbformat_minor": 2
}
