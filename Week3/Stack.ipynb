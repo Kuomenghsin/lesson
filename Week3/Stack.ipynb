{
 "cells": [
  {
   "cell_type": "code",
   "execution_count": 43,
   "metadata": {},
   "outputs": [
    {
     "data": {
      "text/plain": [
       "22"
      ]
     },
     "execution_count": 43,
     "metadata": {},
     "output_type": "execute_result"
    }
   ],
   "source": [
    "class Node:\n",
    "    def __init__(self,val):\n",
    "        self.val=val\n",
    "        self.next=None\n",
    "        \n",
    "class Stack:\n",
    "    def __init__(self):\n",
    "        self.head=None\n",
    "        \n",
    "    def push(self,val):\n",
    "        if self.head == None:\n",
    "            self.head=Node(val)\n",
    "        else:\n",
    "            cur=self.head\n",
    "            while cur.next:\n",
    "                cur=cur.next\n",
    "            cur.next=Node(val)\n",
    "            \n",
    "    def pop(self):\n",
    "        if self.head == None:\n",
    "            return\n",
    "        else:\n",
    "            num=self.getSize()\n",
    "            cur=self.head            \n",
    "            for i in range(num-2):\n",
    "                cur=cur.next\n",
    "            cur.next=None\n",
    "                              \n",
    "    def getSize(self):\n",
    "        cur=self.head\n",
    "        count=0\n",
    "        while cur:\n",
    "            count+=1\n",
    "            cur=cur.next\n",
    "        return count\n",
    "    \n",
    "    def top(self):\n",
    "        if self.head == None:\n",
    "            return\n",
    "        else:\n",
    "            num=self.getSize()\n",
    "            cur=self.head            \n",
    "            for i in range(num-2):\n",
    "                cur=cur.next\n",
    "            temp=cur.next.val\n",
    "            return temp\n",
    "        \n",
    "    def IsEmpty(self):\n",
    "        if self.head==None:\n",
    "            return True\n",
    "        else:\n",
    "            return False\n",
    "          \n",
    "            \n",
    "    def printstack(self):            \n",
    "        temp=self.head \n",
    "        while temp: \n",
    "            print(temp.val,end=\"->\") \n",
    "            temp=temp.next\n",
    "               \n",
    "            \n",
    "        \n",
    "stack=Stack()\n",
    "stack.push(11)\n",
    "stack.push(22)\n",
    "stack.push(33)\n",
    "stack.pop()\n",
    "stack.top()\n",
    "#print(stack.printstack())"
   ]
  }
 ],
 "metadata": {
  "kernelspec": {
   "display_name": "Python 3",
   "language": "python",
   "name": "python3"
  },
  "language_info": {
   "codemirror_mode": {
    "name": "ipython",
    "version": 3
   },
   "file_extension": ".py",
   "mimetype": "text/x-python",
   "name": "python",
   "nbconvert_exporter": "python",
   "pygments_lexer": "ipython3",
   "version": "3.6.1"
  }
 },
 "nbformat": 4,
 "nbformat_minor": 2
}
